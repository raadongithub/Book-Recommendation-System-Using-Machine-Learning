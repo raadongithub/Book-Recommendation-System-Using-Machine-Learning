{
 "cells": [
  {
   "cell_type": "code",
   "execution_count": 1,
   "metadata": {
    "executionInfo": {
     "elapsed": 2496,
     "status": "ok",
     "timestamp": 1685902801818,
     "user": {
      "displayName": "RA'D",
      "userId": "18114200548720867749"
     },
     "user_tz": -300
    },
    "id": "h-rfD45Fx0K1"
   },
   "outputs": [],
   "source": [
    "import numpy as np\n",
    "import pandas as pd\n",
    "from scipy.sparse import csr_matrix\n",
    "from sklearn.neighbors import NearestNeighbors\n",
    "import pickle\n",
    "from scipy.sparse.linalg import svds"
   ]
  },
  {
   "cell_type": "code",
   "execution_count": 2,
   "metadata": {
    "colab": {
     "base_uri": "https://localhost:8080/"
    },
    "executionInfo": {
     "elapsed": 2002,
     "status": "ok",
     "timestamp": 1685899468182,
     "user": {
      "displayName": "RA'D",
      "userId": "18114200548720867749"
     },
     "user_tz": -300
    },
    "id": "nJRdrMyrzb_L",
    "outputId": "b139b080-4f65-442e-91c0-07fb50964e65"
   },
   "outputs": [
    {
     "name": "stderr",
     "output_type": "stream",
     "text": [
      "C:\\Users\\New Muskan\\AppData\\Local\\Temp\\ipykernel_5280\\1404545048.py:1: FutureWarning: The error_bad_lines argument has been deprecated and will be removed in a future version. Use on_bad_lines in the future.\n",
      "\n",
      "\n",
      "  books=pd.read_csv(\"BX-Books.csv\", sep=';', error_bad_lines=False, encoding='latin-1')\n",
      "Skipping line 6452: expected 8 fields, saw 9\n",
      "Skipping line 43667: expected 8 fields, saw 10\n",
      "Skipping line 51751: expected 8 fields, saw 9\n",
      "\n",
      "Skipping line 92038: expected 8 fields, saw 9\n",
      "Skipping line 104319: expected 8 fields, saw 9\n",
      "Skipping line 121768: expected 8 fields, saw 9\n",
      "\n",
      "Skipping line 144058: expected 8 fields, saw 9\n",
      "Skipping line 150789: expected 8 fields, saw 9\n",
      "Skipping line 157128: expected 8 fields, saw 9\n",
      "Skipping line 180189: expected 8 fields, saw 9\n",
      "Skipping line 185738: expected 8 fields, saw 9\n",
      "\n",
      "Skipping line 209388: expected 8 fields, saw 9\n",
      "Skipping line 220626: expected 8 fields, saw 9\n",
      "Skipping line 227933: expected 8 fields, saw 11\n",
      "Skipping line 228957: expected 8 fields, saw 10\n",
      "Skipping line 245933: expected 8 fields, saw 9\n",
      "Skipping line 251296: expected 8 fields, saw 9\n",
      "Skipping line 259941: expected 8 fields, saw 9\n",
      "Skipping line 261529: expected 8 fields, saw 9\n",
      "\n",
      "C:\\Users\\New Muskan\\AppData\\Local\\Temp\\ipykernel_5280\\1404545048.py:1: DtypeWarning: Columns (3) have mixed types. Specify dtype option on import or set low_memory=False.\n",
      "  books=pd.read_csv(\"BX-Books.csv\", sep=';', error_bad_lines=False, encoding='latin-1')\n"
     ]
    }
   ],
   "source": [
    "books=pd.read_csv(\"BX-Books.csv\", sep=';', error_bad_lines=False, encoding='latin-1')"
   ]
  },
  {
   "cell_type": "code",
   "execution_count": 3,
   "metadata": {
    "colab": {
     "base_uri": "https://localhost:8080/",
     "height": 478
    },
    "executionInfo": {
     "elapsed": 38,
     "status": "ok",
     "timestamp": 1685899468182,
     "user": {
      "displayName": "RA'D",
      "userId": "18114200548720867749"
     },
     "user_tz": -300
    },
    "id": "c0MiR3680B5_",
    "outputId": "12a5ddf9-d8fb-4875-b771-570f7a3d56a2"
   },
   "outputs": [
    {
     "data": {
      "text/html": [
       "<div>\n",
       "<style scoped>\n",
       "    .dataframe tbody tr th:only-of-type {\n",
       "        vertical-align: middle;\n",
       "    }\n",
       "\n",
       "    .dataframe tbody tr th {\n",
       "        vertical-align: top;\n",
       "    }\n",
       "\n",
       "    .dataframe thead th {\n",
       "        text-align: right;\n",
       "    }\n",
       "</style>\n",
       "<table border=\"1\" class=\"dataframe\">\n",
       "  <thead>\n",
       "    <tr style=\"text-align: right;\">\n",
       "      <th></th>\n",
       "      <th>ISBN</th>\n",
       "      <th>Book-Title</th>\n",
       "      <th>Book-Author</th>\n",
       "      <th>Year-Of-Publication</th>\n",
       "      <th>Publisher</th>\n",
       "      <th>Image-URL-S</th>\n",
       "      <th>Image-URL-M</th>\n",
       "      <th>Image-URL-L</th>\n",
       "    </tr>\n",
       "  </thead>\n",
       "  <tbody>\n",
       "    <tr>\n",
       "      <th>0</th>\n",
       "      <td>0195153448</td>\n",
       "      <td>Classical Mythology</td>\n",
       "      <td>Mark P. O. Morford</td>\n",
       "      <td>2002</td>\n",
       "      <td>Oxford University Press</td>\n",
       "      <td>http://images.amazon.com/images/P/0195153448.0...</td>\n",
       "      <td>http://images.amazon.com/images/P/0195153448.0...</td>\n",
       "      <td>http://images.amazon.com/images/P/0195153448.0...</td>\n",
       "    </tr>\n",
       "    <tr>\n",
       "      <th>1</th>\n",
       "      <td>0002005018</td>\n",
       "      <td>Clara Callan</td>\n",
       "      <td>Richard Bruce Wright</td>\n",
       "      <td>2001</td>\n",
       "      <td>HarperFlamingo Canada</td>\n",
       "      <td>http://images.amazon.com/images/P/0002005018.0...</td>\n",
       "      <td>http://images.amazon.com/images/P/0002005018.0...</td>\n",
       "      <td>http://images.amazon.com/images/P/0002005018.0...</td>\n",
       "    </tr>\n",
       "    <tr>\n",
       "      <th>2</th>\n",
       "      <td>0060973129</td>\n",
       "      <td>Decision in Normandy</td>\n",
       "      <td>Carlo D'Este</td>\n",
       "      <td>1991</td>\n",
       "      <td>HarperPerennial</td>\n",
       "      <td>http://images.amazon.com/images/P/0060973129.0...</td>\n",
       "      <td>http://images.amazon.com/images/P/0060973129.0...</td>\n",
       "      <td>http://images.amazon.com/images/P/0060973129.0...</td>\n",
       "    </tr>\n",
       "    <tr>\n",
       "      <th>3</th>\n",
       "      <td>0374157065</td>\n",
       "      <td>Flu: The Story of the Great Influenza Pandemic...</td>\n",
       "      <td>Gina Bari Kolata</td>\n",
       "      <td>1999</td>\n",
       "      <td>Farrar Straus Giroux</td>\n",
       "      <td>http://images.amazon.com/images/P/0374157065.0...</td>\n",
       "      <td>http://images.amazon.com/images/P/0374157065.0...</td>\n",
       "      <td>http://images.amazon.com/images/P/0374157065.0...</td>\n",
       "    </tr>\n",
       "    <tr>\n",
       "      <th>4</th>\n",
       "      <td>0393045218</td>\n",
       "      <td>The Mummies of Urumchi</td>\n",
       "      <td>E. J. W. Barber</td>\n",
       "      <td>1999</td>\n",
       "      <td>W. W. Norton &amp;amp; Company</td>\n",
       "      <td>http://images.amazon.com/images/P/0393045218.0...</td>\n",
       "      <td>http://images.amazon.com/images/P/0393045218.0...</td>\n",
       "      <td>http://images.amazon.com/images/P/0393045218.0...</td>\n",
       "    </tr>\n",
       "  </tbody>\n",
       "</table>\n",
       "</div>"
      ],
      "text/plain": [
       "         ISBN                                         Book-Title  \\\n",
       "0  0195153448                                Classical Mythology   \n",
       "1  0002005018                                       Clara Callan   \n",
       "2  0060973129                               Decision in Normandy   \n",
       "3  0374157065  Flu: The Story of the Great Influenza Pandemic...   \n",
       "4  0393045218                             The Mummies of Urumchi   \n",
       "\n",
       "            Book-Author Year-Of-Publication                   Publisher  \\\n",
       "0    Mark P. O. Morford                2002     Oxford University Press   \n",
       "1  Richard Bruce Wright                2001       HarperFlamingo Canada   \n",
       "2          Carlo D'Este                1991             HarperPerennial   \n",
       "3      Gina Bari Kolata                1999        Farrar Straus Giroux   \n",
       "4       E. J. W. Barber                1999  W. W. Norton &amp; Company   \n",
       "\n",
       "                                         Image-URL-S  \\\n",
       "0  http://images.amazon.com/images/P/0195153448.0...   \n",
       "1  http://images.amazon.com/images/P/0002005018.0...   \n",
       "2  http://images.amazon.com/images/P/0060973129.0...   \n",
       "3  http://images.amazon.com/images/P/0374157065.0...   \n",
       "4  http://images.amazon.com/images/P/0393045218.0...   \n",
       "\n",
       "                                         Image-URL-M  \\\n",
       "0  http://images.amazon.com/images/P/0195153448.0...   \n",
       "1  http://images.amazon.com/images/P/0002005018.0...   \n",
       "2  http://images.amazon.com/images/P/0060973129.0...   \n",
       "3  http://images.amazon.com/images/P/0374157065.0...   \n",
       "4  http://images.amazon.com/images/P/0393045218.0...   \n",
       "\n",
       "                                         Image-URL-L  \n",
       "0  http://images.amazon.com/images/P/0195153448.0...  \n",
       "1  http://images.amazon.com/images/P/0002005018.0...  \n",
       "2  http://images.amazon.com/images/P/0060973129.0...  \n",
       "3  http://images.amazon.com/images/P/0374157065.0...  \n",
       "4  http://images.amazon.com/images/P/0393045218.0...  "
      ]
     },
     "execution_count": 3,
     "metadata": {},
     "output_type": "execute_result"
    }
   ],
   "source": [
    "books.head()"
   ]
  },
  {
   "cell_type": "code",
   "execution_count": 4,
   "metadata": {
    "colab": {
     "base_uri": "https://localhost:8080/"
    },
    "executionInfo": {
     "elapsed": 37,
     "status": "ok",
     "timestamp": 1685899468183,
     "user": {
      "displayName": "RA'D",
      "userId": "18114200548720867749"
     },
     "user_tz": -300
    },
    "id": "Fk0OkqIm0JOY",
    "outputId": "88e98e1a-3652-4360-cc02-90738d4ec094"
   },
   "outputs": [
    {
     "data": {
      "text/plain": [
       "Index(['ISBN', 'Book-Title', 'Book-Author', 'Year-Of-Publication', 'Publisher',\n",
       "       'Image-URL-S', 'Image-URL-M', 'Image-URL-L'],\n",
       "      dtype='object')"
      ]
     },
     "execution_count": 4,
     "metadata": {},
     "output_type": "execute_result"
    }
   ],
   "source": [
    "books.columns"
   ]
  },
  {
   "cell_type": "code",
   "execution_count": 5,
   "metadata": {
    "executionInfo": {
     "elapsed": 28,
     "status": "ok",
     "timestamp": 1685899468184,
     "user": {
      "displayName": "RA'D",
      "userId": "18114200548720867749"
     },
     "user_tz": -300
    },
    "id": "7nHtBJw-0NS1"
   },
   "outputs": [],
   "source": [
    "books=books[['ISBN', 'Book-Title', 'Book-Author', 'Year-Of-Publication', 'Publisher']]"
   ]
  },
  {
   "cell_type": "code",
   "execution_count": 6,
   "metadata": {
    "colab": {
     "base_uri": "https://localhost:8080/",
     "height": 143
    },
    "executionInfo": {
     "elapsed": 27,
     "status": "ok",
     "timestamp": 1685899468185,
     "user": {
      "displayName": "RA'D",
      "userId": "18114200548720867749"
     },
     "user_tz": -300
    },
    "id": "4KJdVZ3C1Rue",
    "outputId": "133858da-5dfc-4f0b-f90c-416cd64c9b4d"
   },
   "outputs": [
    {
     "data": {
      "text/html": [
       "<div>\n",
       "<style scoped>\n",
       "    .dataframe tbody tr th:only-of-type {\n",
       "        vertical-align: middle;\n",
       "    }\n",
       "\n",
       "    .dataframe tbody tr th {\n",
       "        vertical-align: top;\n",
       "    }\n",
       "\n",
       "    .dataframe thead th {\n",
       "        text-align: right;\n",
       "    }\n",
       "</style>\n",
       "<table border=\"1\" class=\"dataframe\">\n",
       "  <thead>\n",
       "    <tr style=\"text-align: right;\">\n",
       "      <th></th>\n",
       "      <th>ISBN</th>\n",
       "      <th>Book-Title</th>\n",
       "      <th>Book-Author</th>\n",
       "      <th>Year-Of-Publication</th>\n",
       "      <th>Publisher</th>\n",
       "    </tr>\n",
       "  </thead>\n",
       "  <tbody>\n",
       "    <tr>\n",
       "      <th>0</th>\n",
       "      <td>0195153448</td>\n",
       "      <td>Classical Mythology</td>\n",
       "      <td>Mark P. O. Morford</td>\n",
       "      <td>2002</td>\n",
       "      <td>Oxford University Press</td>\n",
       "    </tr>\n",
       "    <tr>\n",
       "      <th>1</th>\n",
       "      <td>0002005018</td>\n",
       "      <td>Clara Callan</td>\n",
       "      <td>Richard Bruce Wright</td>\n",
       "      <td>2001</td>\n",
       "      <td>HarperFlamingo Canada</td>\n",
       "    </tr>\n",
       "    <tr>\n",
       "      <th>2</th>\n",
       "      <td>0060973129</td>\n",
       "      <td>Decision in Normandy</td>\n",
       "      <td>Carlo D'Este</td>\n",
       "      <td>1991</td>\n",
       "      <td>HarperPerennial</td>\n",
       "    </tr>\n",
       "  </tbody>\n",
       "</table>\n",
       "</div>"
      ],
      "text/plain": [
       "         ISBN            Book-Title           Book-Author Year-Of-Publication  \\\n",
       "0  0195153448   Classical Mythology    Mark P. O. Morford                2002   \n",
       "1  0002005018          Clara Callan  Richard Bruce Wright                2001   \n",
       "2  0060973129  Decision in Normandy          Carlo D'Este                1991   \n",
       "\n",
       "                 Publisher  \n",
       "0  Oxford University Press  \n",
       "1    HarperFlamingo Canada  \n",
       "2          HarperPerennial  "
      ]
     },
     "execution_count": 6,
     "metadata": {},
     "output_type": "execute_result"
    }
   ],
   "source": [
    "books.head(3)"
   ]
  },
  {
   "cell_type": "code",
   "execution_count": 7,
   "metadata": {
    "colab": {
     "base_uri": "https://localhost:8080/"
    },
    "executionInfo": {
     "elapsed": 26,
     "status": "ok",
     "timestamp": 1685899468185,
     "user": {
      "displayName": "RA'D",
      "userId": "18114200548720867749"
     },
     "user_tz": -300
    },
    "id": "3gqVvMEN0djb",
    "outputId": "03e39635-a0f8-4a6d-da98-0233c9825f94"
   },
   "outputs": [],
   "source": [
    "books.rename(columns={'Book-Title': 'title', 'Book-Author': 'author', 'Year-Of-Publication': 'year', 'Publisher': 'publisher'}, inplace=True)"
   ]
  },
  {
   "cell_type": "code",
   "execution_count": 8,
   "metadata": {
    "colab": {
     "base_uri": "https://localhost:8080/",
     "height": 206
    },
    "executionInfo": {
     "elapsed": 23,
     "status": "ok",
     "timestamp": 1685899468187,
     "user": {
      "displayName": "RA'D",
      "userId": "18114200548720867749"
     },
     "user_tz": -300
    },
    "id": "mcWzlkIH2Vp0",
    "outputId": "24e0c820-87a0-415a-afd4-64b392e61d58"
   },
   "outputs": [
    {
     "data": {
      "text/html": [
       "<div>\n",
       "<style scoped>\n",
       "    .dataframe tbody tr th:only-of-type {\n",
       "        vertical-align: middle;\n",
       "    }\n",
       "\n",
       "    .dataframe tbody tr th {\n",
       "        vertical-align: top;\n",
       "    }\n",
       "\n",
       "    .dataframe thead th {\n",
       "        text-align: right;\n",
       "    }\n",
       "</style>\n",
       "<table border=\"1\" class=\"dataframe\">\n",
       "  <thead>\n",
       "    <tr style=\"text-align: right;\">\n",
       "      <th></th>\n",
       "      <th>ISBN</th>\n",
       "      <th>title</th>\n",
       "      <th>author</th>\n",
       "      <th>year</th>\n",
       "      <th>publisher</th>\n",
       "    </tr>\n",
       "  </thead>\n",
       "  <tbody>\n",
       "    <tr>\n",
       "      <th>0</th>\n",
       "      <td>0195153448</td>\n",
       "      <td>Classical Mythology</td>\n",
       "      <td>Mark P. O. Morford</td>\n",
       "      <td>2002</td>\n",
       "      <td>Oxford University Press</td>\n",
       "    </tr>\n",
       "    <tr>\n",
       "      <th>1</th>\n",
       "      <td>0002005018</td>\n",
       "      <td>Clara Callan</td>\n",
       "      <td>Richard Bruce Wright</td>\n",
       "      <td>2001</td>\n",
       "      <td>HarperFlamingo Canada</td>\n",
       "    </tr>\n",
       "    <tr>\n",
       "      <th>2</th>\n",
       "      <td>0060973129</td>\n",
       "      <td>Decision in Normandy</td>\n",
       "      <td>Carlo D'Este</td>\n",
       "      <td>1991</td>\n",
       "      <td>HarperPerennial</td>\n",
       "    </tr>\n",
       "    <tr>\n",
       "      <th>3</th>\n",
       "      <td>0374157065</td>\n",
       "      <td>Flu: The Story of the Great Influenza Pandemic...</td>\n",
       "      <td>Gina Bari Kolata</td>\n",
       "      <td>1999</td>\n",
       "      <td>Farrar Straus Giroux</td>\n",
       "    </tr>\n",
       "    <tr>\n",
       "      <th>4</th>\n",
       "      <td>0393045218</td>\n",
       "      <td>The Mummies of Urumchi</td>\n",
       "      <td>E. J. W. Barber</td>\n",
       "      <td>1999</td>\n",
       "      <td>W. W. Norton &amp;amp; Company</td>\n",
       "    </tr>\n",
       "  </tbody>\n",
       "</table>\n",
       "</div>"
      ],
      "text/plain": [
       "         ISBN                                              title  \\\n",
       "0  0195153448                                Classical Mythology   \n",
       "1  0002005018                                       Clara Callan   \n",
       "2  0060973129                               Decision in Normandy   \n",
       "3  0374157065  Flu: The Story of the Great Influenza Pandemic...   \n",
       "4  0393045218                             The Mummies of Urumchi   \n",
       "\n",
       "                 author  year                   publisher  \n",
       "0    Mark P. O. Morford  2002     Oxford University Press  \n",
       "1  Richard Bruce Wright  2001       HarperFlamingo Canada  \n",
       "2          Carlo D'Este  1991             HarperPerennial  \n",
       "3      Gina Bari Kolata  1999        Farrar Straus Giroux  \n",
       "4       E. J. W. Barber  1999  W. W. Norton &amp; Company  "
      ]
     },
     "execution_count": 8,
     "metadata": {},
     "output_type": "execute_result"
    }
   ],
   "source": [
    "books.head()"
   ]
  },
  {
   "cell_type": "code",
   "execution_count": 9,
   "metadata": {
    "colab": {
     "base_uri": "https://localhost:8080/"
    },
    "executionInfo": {
     "elapsed": 938,
     "status": "ok",
     "timestamp": 1685899469103,
     "user": {
      "displayName": "RA'D",
      "userId": "18114200548720867749"
     },
     "user_tz": -300
    },
    "id": "PsGoJOSq0g5t",
    "outputId": "6cb9cb36-41c2-4741-b216-d7ed302249b1"
   },
   "outputs": [
    {
     "name": "stderr",
     "output_type": "stream",
     "text": [
      "C:\\Users\\New Muskan\\AppData\\Local\\Temp\\ipykernel_5280\\3355651049.py:1: FutureWarning: The error_bad_lines argument has been deprecated and will be removed in a future version. Use on_bad_lines in the future.\n",
      "\n",
      "\n",
      "  users=pd.read_csv(\"BX-Users.csv\", sep=';', error_bad_lines=False, encoding='latin-1')\n"
     ]
    }
   ],
   "source": [
    "users=pd.read_csv(\"BX-Users.csv\", sep=';', error_bad_lines=False, encoding='latin-1')"
   ]
  },
  {
   "cell_type": "code",
   "execution_count": 10,
   "metadata": {
    "colab": {
     "base_uri": "https://localhost:8080/",
     "height": 206
    },
    "executionInfo": {
     "elapsed": 29,
     "status": "ok",
     "timestamp": 1685899469103,
     "user": {
      "displayName": "RA'D",
      "userId": "18114200548720867749"
     },
     "user_tz": -300
    },
    "id": "JeWX0F9a1nOR",
    "outputId": "4f41d29f-0dcb-4b17-9580-e48971f41c95"
   },
   "outputs": [
    {
     "data": {
      "text/html": [
       "<div>\n",
       "<style scoped>\n",
       "    .dataframe tbody tr th:only-of-type {\n",
       "        vertical-align: middle;\n",
       "    }\n",
       "\n",
       "    .dataframe tbody tr th {\n",
       "        vertical-align: top;\n",
       "    }\n",
       "\n",
       "    .dataframe thead th {\n",
       "        text-align: right;\n",
       "    }\n",
       "</style>\n",
       "<table border=\"1\" class=\"dataframe\">\n",
       "  <thead>\n",
       "    <tr style=\"text-align: right;\">\n",
       "      <th></th>\n",
       "      <th>User-ID</th>\n",
       "      <th>Location</th>\n",
       "      <th>Age</th>\n",
       "    </tr>\n",
       "  </thead>\n",
       "  <tbody>\n",
       "    <tr>\n",
       "      <th>0</th>\n",
       "      <td>1</td>\n",
       "      <td>nyc, new york, usa</td>\n",
       "      <td>NaN</td>\n",
       "    </tr>\n",
       "    <tr>\n",
       "      <th>1</th>\n",
       "      <td>2</td>\n",
       "      <td>stockton, california, usa</td>\n",
       "      <td>18.0</td>\n",
       "    </tr>\n",
       "    <tr>\n",
       "      <th>2</th>\n",
       "      <td>3</td>\n",
       "      <td>moscow, yukon territory, russia</td>\n",
       "      <td>NaN</td>\n",
       "    </tr>\n",
       "    <tr>\n",
       "      <th>3</th>\n",
       "      <td>4</td>\n",
       "      <td>porto, v.n.gaia, portugal</td>\n",
       "      <td>17.0</td>\n",
       "    </tr>\n",
       "    <tr>\n",
       "      <th>4</th>\n",
       "      <td>5</td>\n",
       "      <td>farnborough, hants, united kingdom</td>\n",
       "      <td>NaN</td>\n",
       "    </tr>\n",
       "  </tbody>\n",
       "</table>\n",
       "</div>"
      ],
      "text/plain": [
       "   User-ID                            Location   Age\n",
       "0        1                  nyc, new york, usa   NaN\n",
       "1        2           stockton, california, usa  18.0\n",
       "2        3     moscow, yukon territory, russia   NaN\n",
       "3        4           porto, v.n.gaia, portugal  17.0\n",
       "4        5  farnborough, hants, united kingdom   NaN"
      ]
     },
     "execution_count": 10,
     "metadata": {},
     "output_type": "execute_result"
    }
   ],
   "source": [
    "users.head()"
   ]
  },
  {
   "cell_type": "code",
   "execution_count": 11,
   "metadata": {
    "executionInfo": {
     "elapsed": 27,
     "status": "ok",
     "timestamp": 1685899469105,
     "user": {
      "displayName": "RA'D",
      "userId": "18114200548720867749"
     },
     "user_tz": -300
    },
    "id": "TCKGU_ot1wNv"
   },
   "outputs": [],
   "source": [
    "users.rename(columns={'\tUser-ID': 'user_id', 'Location': 'location', 'Age': 'age'}, inplace=True)"
   ]
  },
  {
   "cell_type": "code",
   "execution_count": 12,
   "metadata": {
    "colab": {
     "base_uri": "https://localhost:8080/",
     "height": 206
    },
    "executionInfo": {
     "elapsed": 34,
     "status": "ok",
     "timestamp": 1685899469112,
     "user": {
      "displayName": "RA'D",
      "userId": "18114200548720867749"
     },
     "user_tz": -300
    },
    "id": "3y0-zGQJ2YqN",
    "outputId": "e8be3e49-abe5-4d7e-b8c1-0e5b121652cf"
   },
   "outputs": [
    {
     "data": {
      "text/html": [
       "<div>\n",
       "<style scoped>\n",
       "    .dataframe tbody tr th:only-of-type {\n",
       "        vertical-align: middle;\n",
       "    }\n",
       "\n",
       "    .dataframe tbody tr th {\n",
       "        vertical-align: top;\n",
       "    }\n",
       "\n",
       "    .dataframe thead th {\n",
       "        text-align: right;\n",
       "    }\n",
       "</style>\n",
       "<table border=\"1\" class=\"dataframe\">\n",
       "  <thead>\n",
       "    <tr style=\"text-align: right;\">\n",
       "      <th></th>\n",
       "      <th>User-ID</th>\n",
       "      <th>location</th>\n",
       "      <th>age</th>\n",
       "    </tr>\n",
       "  </thead>\n",
       "  <tbody>\n",
       "    <tr>\n",
       "      <th>0</th>\n",
       "      <td>1</td>\n",
       "      <td>nyc, new york, usa</td>\n",
       "      <td>NaN</td>\n",
       "    </tr>\n",
       "    <tr>\n",
       "      <th>1</th>\n",
       "      <td>2</td>\n",
       "      <td>stockton, california, usa</td>\n",
       "      <td>18.0</td>\n",
       "    </tr>\n",
       "    <tr>\n",
       "      <th>2</th>\n",
       "      <td>3</td>\n",
       "      <td>moscow, yukon territory, russia</td>\n",
       "      <td>NaN</td>\n",
       "    </tr>\n",
       "    <tr>\n",
       "      <th>3</th>\n",
       "      <td>4</td>\n",
       "      <td>porto, v.n.gaia, portugal</td>\n",
       "      <td>17.0</td>\n",
       "    </tr>\n",
       "    <tr>\n",
       "      <th>4</th>\n",
       "      <td>5</td>\n",
       "      <td>farnborough, hants, united kingdom</td>\n",
       "      <td>NaN</td>\n",
       "    </tr>\n",
       "  </tbody>\n",
       "</table>\n",
       "</div>"
      ],
      "text/plain": [
       "   User-ID                            location   age\n",
       "0        1                  nyc, new york, usa   NaN\n",
       "1        2           stockton, california, usa  18.0\n",
       "2        3     moscow, yukon territory, russia   NaN\n",
       "3        4           porto, v.n.gaia, portugal  17.0\n",
       "4        5  farnborough, hants, united kingdom   NaN"
      ]
     },
     "execution_count": 12,
     "metadata": {},
     "output_type": "execute_result"
    }
   ],
   "source": [
    "users.head()"
   ]
  },
  {
   "cell_type": "code",
   "execution_count": 13,
   "metadata": {
    "colab": {
     "base_uri": "https://localhost:8080/"
    },
    "executionInfo": {
     "elapsed": 568,
     "status": "ok",
     "timestamp": 1685899469649,
     "user": {
      "displayName": "RA'D",
      "userId": "18114200548720867749"
     },
     "user_tz": -300
    },
    "id": "ccc7bBqX2dBU",
    "outputId": "bb38c26b-ea12-4d4e-8dc0-c56d06851a3c"
   },
   "outputs": [
    {
     "name": "stderr",
     "output_type": "stream",
     "text": [
      "C:\\Users\\New Muskan\\AppData\\Local\\Temp\\ipykernel_5280\\2910581067.py:1: FutureWarning: The error_bad_lines argument has been deprecated and will be removed in a future version. Use on_bad_lines in the future.\n",
      "\n",
      "\n",
      "  ratings=pd.read_csv('BX-Book-Ratings.csv', sep=';', error_bad_lines=False, encoding='latin-1' )\n"
     ]
    }
   ],
   "source": [
    "ratings=pd.read_csv('BX-Book-Ratings.csv', sep=';', error_bad_lines=False, encoding='latin-1' )"
   ]
  },
  {
   "cell_type": "code",
   "execution_count": 14,
   "metadata": {
    "colab": {
     "base_uri": "https://localhost:8080/",
     "height": 206
    },
    "executionInfo": {
     "elapsed": 76,
     "status": "ok",
     "timestamp": 1685899469649,
     "user": {
      "displayName": "RA'D",
      "userId": "18114200548720867749"
     },
     "user_tz": -300
    },
    "id": "pOLDNHpa2q26",
    "outputId": "2bb2c599-6573-4497-9516-4892009f96bb"
   },
   "outputs": [
    {
     "data": {
      "text/html": [
       "<div>\n",
       "<style scoped>\n",
       "    .dataframe tbody tr th:only-of-type {\n",
       "        vertical-align: middle;\n",
       "    }\n",
       "\n",
       "    .dataframe tbody tr th {\n",
       "        vertical-align: top;\n",
       "    }\n",
       "\n",
       "    .dataframe thead th {\n",
       "        text-align: right;\n",
       "    }\n",
       "</style>\n",
       "<table border=\"1\" class=\"dataframe\">\n",
       "  <thead>\n",
       "    <tr style=\"text-align: right;\">\n",
       "      <th></th>\n",
       "      <th>User-ID</th>\n",
       "      <th>ISBN</th>\n",
       "      <th>Book-Rating</th>\n",
       "    </tr>\n",
       "  </thead>\n",
       "  <tbody>\n",
       "    <tr>\n",
       "      <th>0</th>\n",
       "      <td>276725</td>\n",
       "      <td>034545104X</td>\n",
       "      <td>0</td>\n",
       "    </tr>\n",
       "    <tr>\n",
       "      <th>1</th>\n",
       "      <td>276726</td>\n",
       "      <td>0155061224</td>\n",
       "      <td>5</td>\n",
       "    </tr>\n",
       "    <tr>\n",
       "      <th>2</th>\n",
       "      <td>276727</td>\n",
       "      <td>0446520802</td>\n",
       "      <td>0</td>\n",
       "    </tr>\n",
       "    <tr>\n",
       "      <th>3</th>\n",
       "      <td>276729</td>\n",
       "      <td>052165615X</td>\n",
       "      <td>3</td>\n",
       "    </tr>\n",
       "    <tr>\n",
       "      <th>4</th>\n",
       "      <td>276729</td>\n",
       "      <td>0521795028</td>\n",
       "      <td>6</td>\n",
       "    </tr>\n",
       "  </tbody>\n",
       "</table>\n",
       "</div>"
      ],
      "text/plain": [
       "   User-ID        ISBN  Book-Rating\n",
       "0   276725  034545104X            0\n",
       "1   276726  0155061224            5\n",
       "2   276727  0446520802            0\n",
       "3   276729  052165615X            3\n",
       "4   276729  0521795028            6"
      ]
     },
     "execution_count": 14,
     "metadata": {},
     "output_type": "execute_result"
    }
   ],
   "source": [
    "ratings.head()"
   ]
  },
  {
   "cell_type": "code",
   "execution_count": 15,
   "metadata": {
    "executionInfo": {
     "elapsed": 74,
     "status": "ok",
     "timestamp": 1685899469650,
     "user": {
      "displayName": "RA'D",
      "userId": "18114200548720867749"
     },
     "user_tz": -300
    },
    "id": "Q_xWrnTN2ucp"
   },
   "outputs": [],
   "source": [
    "ratings.rename(columns={'User-ID': 'user_id', 'Book-Rating': 'rating'}, inplace=True)"
   ]
  },
  {
   "cell_type": "code",
   "execution_count": 16,
   "metadata": {
    "colab": {
     "base_uri": "https://localhost:8080/",
     "height": 206
    },
    "executionInfo": {
     "elapsed": 73,
     "status": "ok",
     "timestamp": 1685899469651,
     "user": {
      "displayName": "RA'D",
      "userId": "18114200548720867749"
     },
     "user_tz": -300
    },
    "id": "yfD-X6OO3D2I",
    "outputId": "68bf810b-b125-4151-da5a-264de4c21f30"
   },
   "outputs": [
    {
     "data": {
      "text/html": [
       "<div>\n",
       "<style scoped>\n",
       "    .dataframe tbody tr th:only-of-type {\n",
       "        vertical-align: middle;\n",
       "    }\n",
       "\n",
       "    .dataframe tbody tr th {\n",
       "        vertical-align: top;\n",
       "    }\n",
       "\n",
       "    .dataframe thead th {\n",
       "        text-align: right;\n",
       "    }\n",
       "</style>\n",
       "<table border=\"1\" class=\"dataframe\">\n",
       "  <thead>\n",
       "    <tr style=\"text-align: right;\">\n",
       "      <th></th>\n",
       "      <th>user_id</th>\n",
       "      <th>ISBN</th>\n",
       "      <th>rating</th>\n",
       "    </tr>\n",
       "  </thead>\n",
       "  <tbody>\n",
       "    <tr>\n",
       "      <th>0</th>\n",
       "      <td>276725</td>\n",
       "      <td>034545104X</td>\n",
       "      <td>0</td>\n",
       "    </tr>\n",
       "    <tr>\n",
       "      <th>1</th>\n",
       "      <td>276726</td>\n",
       "      <td>0155061224</td>\n",
       "      <td>5</td>\n",
       "    </tr>\n",
       "    <tr>\n",
       "      <th>2</th>\n",
       "      <td>276727</td>\n",
       "      <td>0446520802</td>\n",
       "      <td>0</td>\n",
       "    </tr>\n",
       "    <tr>\n",
       "      <th>3</th>\n",
       "      <td>276729</td>\n",
       "      <td>052165615X</td>\n",
       "      <td>3</td>\n",
       "    </tr>\n",
       "    <tr>\n",
       "      <th>4</th>\n",
       "      <td>276729</td>\n",
       "      <td>0521795028</td>\n",
       "      <td>6</td>\n",
       "    </tr>\n",
       "  </tbody>\n",
       "</table>\n",
       "</div>"
      ],
      "text/plain": [
       "   user_id        ISBN  rating\n",
       "0   276725  034545104X       0\n",
       "1   276726  0155061224       5\n",
       "2   276727  0446520802       0\n",
       "3   276729  052165615X       3\n",
       "4   276729  0521795028       6"
      ]
     },
     "execution_count": 16,
     "metadata": {},
     "output_type": "execute_result"
    }
   ],
   "source": [
    "ratings.head()"
   ]
  },
  {
   "cell_type": "code",
   "execution_count": 17,
   "metadata": {
    "colab": {
     "base_uri": "https://localhost:8080/"
    },
    "executionInfo": {
     "elapsed": 72,
     "status": "ok",
     "timestamp": 1685899469653,
     "user": {
      "displayName": "RA'D",
      "userId": "18114200548720867749"
     },
     "user_tz": -300
    },
    "id": "LaAFyxUe3GqE",
    "outputId": "65860c5f-5410-48f8-97e6-5723a18cae41"
   },
   "outputs": [
    {
     "data": {
      "text/plain": [
       "(271360, 5)"
      ]
     },
     "execution_count": 17,
     "metadata": {},
     "output_type": "execute_result"
    }
   ],
   "source": [
    "books.shape"
   ]
  },
  {
   "cell_type": "code",
   "execution_count": 18,
   "metadata": {
    "colab": {
     "base_uri": "https://localhost:8080/"
    },
    "executionInfo": {
     "elapsed": 64,
     "status": "ok",
     "timestamp": 1685899469654,
     "user": {
      "displayName": "RA'D",
      "userId": "18114200548720867749"
     },
     "user_tz": -300
    },
    "id": "nHJfGhum3Pi1",
    "outputId": "4d6ad241-ad83-40a5-a372-0e33fb4e172a"
   },
   "outputs": [
    {
     "data": {
      "text/plain": [
       "(278858, 3)"
      ]
     },
     "execution_count": 18,
     "metadata": {},
     "output_type": "execute_result"
    }
   ],
   "source": [
    "users.shape"
   ]
  },
  {
   "cell_type": "code",
   "execution_count": 19,
   "metadata": {
    "colab": {
     "base_uri": "https://localhost:8080/"
    },
    "executionInfo": {
     "elapsed": 61,
     "status": "ok",
     "timestamp": 1685899469655,
     "user": {
      "displayName": "RA'D",
      "userId": "18114200548720867749"
     },
     "user_tz": -300
    },
    "id": "EEhykKNO3Qsk",
    "outputId": "58ce63fe-1087-411a-9699-ace4f29e7891"
   },
   "outputs": [
    {
     "data": {
      "text/plain": [
       "(1149780, 3)"
      ]
     },
     "execution_count": 19,
     "metadata": {},
     "output_type": "execute_result"
    }
   ],
   "source": [
    "ratings.shape"
   ]
  },
  {
   "cell_type": "code",
   "execution_count": 20,
   "metadata": {
    "colab": {
     "base_uri": "https://localhost:8080/"
    },
    "executionInfo": {
     "elapsed": 58,
     "status": "ok",
     "timestamp": 1685899469656,
     "user": {
      "displayName": "RA'D",
      "userId": "18114200548720867749"
     },
     "user_tz": -300
    },
    "id": "fHePUzqA3VC4",
    "outputId": "06b91a1e-493e-41dc-d55b-4eb8078b8b11"
   },
   "outputs": [
    {
     "data": {
      "text/plain": [
       "(105283,)"
      ]
     },
     "execution_count": 20,
     "metadata": {},
     "output_type": "execute_result"
    }
   ],
   "source": [
    "ratings['user_id'].value_counts().shape"
   ]
  },
  {
   "cell_type": "code",
   "execution_count": 21,
   "metadata": {
    "executionInfo": {
     "elapsed": 55,
     "status": "ok",
     "timestamp": 1685899469658,
     "user": {
      "displayName": "RA'D",
      "userId": "18114200548720867749"
     },
     "user_tz": -300
    },
    "id": "k11FgF2s3me6"
   },
   "outputs": [
    {
     "data": {
      "text/plain": [
       "(105283,)"
      ]
     },
     "execution_count": 21,
     "metadata": {},
     "output_type": "execute_result"
    }
   ],
   "source": [
    "x=ratings['user_id'].value_counts()>200\n",
    "x.shape"
   ]
  },
  {
   "cell_type": "code",
   "execution_count": 22,
   "metadata": {
    "colab": {
     "base_uri": "https://localhost:8080/"
    },
    "executionInfo": {
     "elapsed": 57,
     "status": "ok",
     "timestamp": 1685899469660,
     "user": {
      "displayName": "RA'D",
      "userId": "18114200548720867749"
     },
     "user_tz": -300
    },
    "id": "q7winI_y327K",
    "outputId": "30293b64-c314-414a-b8c4-76335237d874",
    "scrolled": true
   },
   "outputs": [
    {
     "data": {
      "text/plain": [
       "(899,)"
      ]
     },
     "execution_count": 22,
     "metadata": {},
     "output_type": "execute_result"
    }
   ],
   "source": [
    "x[x].shape"
   ]
  },
  {
   "cell_type": "code",
   "execution_count": 23,
   "metadata": {
    "executionInfo": {
     "elapsed": 55,
     "status": "ok",
     "timestamp": 1685899469662,
     "user": {
      "displayName": "RA'D",
      "userId": "18114200548720867749"
     },
     "user_tz": -300
    },
    "id": "zVrUiSbl39O9"
   },
   "outputs": [],
   "source": [
    "y=x[x].index"
   ]
  },
  {
   "cell_type": "code",
   "execution_count": 24,
   "metadata": {
    "colab": {
     "base_uri": "https://localhost:8080/"
    },
    "executionInfo": {
     "elapsed": 58,
     "status": "ok",
     "timestamp": 1685899469665,
     "user": {
      "displayName": "RA'D",
      "userId": "18114200548720867749"
     },
     "user_tz": -300
    },
    "id": "FiWVK3BL4Hwt",
    "outputId": "a80782c7-3285-44bc-c671-ec5520e29412"
   },
   "outputs": [
    {
     "data": {
      "text/plain": [
       "(899,)"
      ]
     },
     "execution_count": 24,
     "metadata": {},
     "output_type": "execute_result"
    }
   ],
   "source": [
    "y.shape"
   ]
  },
  {
   "cell_type": "code",
   "execution_count": 25,
   "metadata": {
    "executionInfo": {
     "elapsed": 55,
     "status": "ok",
     "timestamp": 1685899469667,
     "user": {
      "displayName": "RA'D",
      "userId": "18114200548720867749"
     },
     "user_tz": -300
    },
    "id": "T2M3Jjcp4Jit"
   },
   "outputs": [],
   "source": [
    "ratings=ratings[ratings['user_id'].isin(y)]"
   ]
  },
  {
   "cell_type": "code",
   "execution_count": 26,
   "metadata": {
    "colab": {
     "base_uri": "https://localhost:8080/"
    },
    "executionInfo": {
     "elapsed": 57,
     "status": "ok",
     "timestamp": 1685899469669,
     "user": {
      "displayName": "RA'D",
      "userId": "18114200548720867749"
     },
     "user_tz": -300
    },
    "id": "bNKgwMML4Tk8",
    "outputId": "f7469830-1e4a-4b83-da03-582d7594c076"
   },
   "outputs": [
    {
     "data": {
      "text/plain": [
       "(526356, 3)"
      ]
     },
     "execution_count": 26,
     "metadata": {},
     "output_type": "execute_result"
    }
   ],
   "source": [
    "ratings.shape"
   ]
  },
  {
   "cell_type": "code",
   "execution_count": 27,
   "metadata": {
    "colab": {
     "base_uri": "https://localhost:8080/",
     "height": 206
    },
    "executionInfo": {
     "elapsed": 53,
     "status": "ok",
     "timestamp": 1685899469670,
     "user": {
      "displayName": "RA'D",
      "userId": "18114200548720867749"
     },
     "user_tz": -300
    },
    "id": "QUwMUbk84Ycw",
    "outputId": "2dfda2db-4aa1-4a33-d3a9-01d111adc7cd"
   },
   "outputs": [
    {
     "data": {
      "text/html": [
       "<div>\n",
       "<style scoped>\n",
       "    .dataframe tbody tr th:only-of-type {\n",
       "        vertical-align: middle;\n",
       "    }\n",
       "\n",
       "    .dataframe tbody tr th {\n",
       "        vertical-align: top;\n",
       "    }\n",
       "\n",
       "    .dataframe thead th {\n",
       "        text-align: right;\n",
       "    }\n",
       "</style>\n",
       "<table border=\"1\" class=\"dataframe\">\n",
       "  <thead>\n",
       "    <tr style=\"text-align: right;\">\n",
       "      <th></th>\n",
       "      <th>user_id</th>\n",
       "      <th>ISBN</th>\n",
       "      <th>rating</th>\n",
       "    </tr>\n",
       "  </thead>\n",
       "  <tbody>\n",
       "    <tr>\n",
       "      <th>1456</th>\n",
       "      <td>277427</td>\n",
       "      <td>002542730X</td>\n",
       "      <td>10</td>\n",
       "    </tr>\n",
       "    <tr>\n",
       "      <th>1457</th>\n",
       "      <td>277427</td>\n",
       "      <td>0026217457</td>\n",
       "      <td>0</td>\n",
       "    </tr>\n",
       "    <tr>\n",
       "      <th>1458</th>\n",
       "      <td>277427</td>\n",
       "      <td>003008685X</td>\n",
       "      <td>8</td>\n",
       "    </tr>\n",
       "    <tr>\n",
       "      <th>1459</th>\n",
       "      <td>277427</td>\n",
       "      <td>0030615321</td>\n",
       "      <td>0</td>\n",
       "    </tr>\n",
       "    <tr>\n",
       "      <th>1460</th>\n",
       "      <td>277427</td>\n",
       "      <td>0060002050</td>\n",
       "      <td>0</td>\n",
       "    </tr>\n",
       "  </tbody>\n",
       "</table>\n",
       "</div>"
      ],
      "text/plain": [
       "      user_id        ISBN  rating\n",
       "1456   277427  002542730X      10\n",
       "1457   277427  0026217457       0\n",
       "1458   277427  003008685X       8\n",
       "1459   277427  0030615321       0\n",
       "1460   277427  0060002050       0"
      ]
     },
     "execution_count": 27,
     "metadata": {},
     "output_type": "execute_result"
    }
   ],
   "source": [
    "ratings.head()"
   ]
  },
  {
   "cell_type": "code",
   "execution_count": 28,
   "metadata": {
    "executionInfo": {
     "elapsed": 636,
     "status": "ok",
     "timestamp": 1685899470255,
     "user": {
      "displayName": "RA'D",
      "userId": "18114200548720867749"
     },
     "user_tz": -300
    },
    "id": "CGxteO6w4cuf"
   },
   "outputs": [],
   "source": [
    "ratings_with_books=ratings.merge(books, on='ISBN')"
   ]
  },
  {
   "cell_type": "code",
   "execution_count": 29,
   "metadata": {
    "colab": {
     "base_uri": "https://localhost:8080/",
     "height": 206
    },
    "executionInfo": {
     "elapsed": 26,
     "status": "ok",
     "timestamp": 1685899470256,
     "user": {
      "displayName": "RA'D",
      "userId": "18114200548720867749"
     },
     "user_tz": -300
    },
    "id": "N0yZk8OJ4v5z",
    "outputId": "e259469a-0a29-433e-c507-6d0f5fba19f9"
   },
   "outputs": [
    {
     "data": {
      "text/html": [
       "<div>\n",
       "<style scoped>\n",
       "    .dataframe tbody tr th:only-of-type {\n",
       "        vertical-align: middle;\n",
       "    }\n",
       "\n",
       "    .dataframe tbody tr th {\n",
       "        vertical-align: top;\n",
       "    }\n",
       "\n",
       "    .dataframe thead th {\n",
       "        text-align: right;\n",
       "    }\n",
       "</style>\n",
       "<table border=\"1\" class=\"dataframe\">\n",
       "  <thead>\n",
       "    <tr style=\"text-align: right;\">\n",
       "      <th></th>\n",
       "      <th>user_id</th>\n",
       "      <th>ISBN</th>\n",
       "      <th>rating</th>\n",
       "      <th>title</th>\n",
       "      <th>author</th>\n",
       "      <th>year</th>\n",
       "      <th>publisher</th>\n",
       "    </tr>\n",
       "  </thead>\n",
       "  <tbody>\n",
       "    <tr>\n",
       "      <th>0</th>\n",
       "      <td>277427</td>\n",
       "      <td>002542730X</td>\n",
       "      <td>10</td>\n",
       "      <td>Politically Correct Bedtime Stories: Modern Ta...</td>\n",
       "      <td>James Finn Garner</td>\n",
       "      <td>1994</td>\n",
       "      <td>John Wiley &amp;amp; Sons Inc</td>\n",
       "    </tr>\n",
       "    <tr>\n",
       "      <th>1</th>\n",
       "      <td>3363</td>\n",
       "      <td>002542730X</td>\n",
       "      <td>0</td>\n",
       "      <td>Politically Correct Bedtime Stories: Modern Ta...</td>\n",
       "      <td>James Finn Garner</td>\n",
       "      <td>1994</td>\n",
       "      <td>John Wiley &amp;amp; Sons Inc</td>\n",
       "    </tr>\n",
       "    <tr>\n",
       "      <th>2</th>\n",
       "      <td>11676</td>\n",
       "      <td>002542730X</td>\n",
       "      <td>6</td>\n",
       "      <td>Politically Correct Bedtime Stories: Modern Ta...</td>\n",
       "      <td>James Finn Garner</td>\n",
       "      <td>1994</td>\n",
       "      <td>John Wiley &amp;amp; Sons Inc</td>\n",
       "    </tr>\n",
       "    <tr>\n",
       "      <th>3</th>\n",
       "      <td>12538</td>\n",
       "      <td>002542730X</td>\n",
       "      <td>10</td>\n",
       "      <td>Politically Correct Bedtime Stories: Modern Ta...</td>\n",
       "      <td>James Finn Garner</td>\n",
       "      <td>1994</td>\n",
       "      <td>John Wiley &amp;amp; Sons Inc</td>\n",
       "    </tr>\n",
       "    <tr>\n",
       "      <th>4</th>\n",
       "      <td>13552</td>\n",
       "      <td>002542730X</td>\n",
       "      <td>0</td>\n",
       "      <td>Politically Correct Bedtime Stories: Modern Ta...</td>\n",
       "      <td>James Finn Garner</td>\n",
       "      <td>1994</td>\n",
       "      <td>John Wiley &amp;amp; Sons Inc</td>\n",
       "    </tr>\n",
       "  </tbody>\n",
       "</table>\n",
       "</div>"
      ],
      "text/plain": [
       "   user_id        ISBN  rating  \\\n",
       "0   277427  002542730X      10   \n",
       "1     3363  002542730X       0   \n",
       "2    11676  002542730X       6   \n",
       "3    12538  002542730X      10   \n",
       "4    13552  002542730X       0   \n",
       "\n",
       "                                               title             author  year  \\\n",
       "0  Politically Correct Bedtime Stories: Modern Ta...  James Finn Garner  1994   \n",
       "1  Politically Correct Bedtime Stories: Modern Ta...  James Finn Garner  1994   \n",
       "2  Politically Correct Bedtime Stories: Modern Ta...  James Finn Garner  1994   \n",
       "3  Politically Correct Bedtime Stories: Modern Ta...  James Finn Garner  1994   \n",
       "4  Politically Correct Bedtime Stories: Modern Ta...  James Finn Garner  1994   \n",
       "\n",
       "                   publisher  \n",
       "0  John Wiley &amp; Sons Inc  \n",
       "1  John Wiley &amp; Sons Inc  \n",
       "2  John Wiley &amp; Sons Inc  \n",
       "3  John Wiley &amp; Sons Inc  \n",
       "4  John Wiley &amp; Sons Inc  "
      ]
     },
     "execution_count": 29,
     "metadata": {},
     "output_type": "execute_result"
    }
   ],
   "source": [
    "ratings_with_books.head()"
   ]
  },
  {
   "cell_type": "code",
   "execution_count": 30,
   "metadata": {
    "colab": {
     "base_uri": "https://localhost:8080/"
    },
    "executionInfo": {
     "elapsed": 25,
     "status": "ok",
     "timestamp": 1685899470257,
     "user": {
      "displayName": "RA'D",
      "userId": "18114200548720867749"
     },
     "user_tz": -300
    },
    "id": "ojRv9yTa42Gq",
    "outputId": "6cfcba3e-21e4-4c68-f5f9-d3c1ec29f2ed"
   },
   "outputs": [
    {
     "data": {
      "text/plain": [
       "(487671, 7)"
      ]
     },
     "execution_count": 30,
     "metadata": {},
     "output_type": "execute_result"
    }
   ],
   "source": [
    "ratings_with_books.shape"
   ]
  },
  {
   "cell_type": "code",
   "execution_count": 31,
   "metadata": {
    "colab": {
     "base_uri": "https://localhost:8080/"
    },
    "executionInfo": {
     "elapsed": 433,
     "status": "ok",
     "timestamp": 1685899470670,
     "user": {
      "displayName": "RA'D",
      "userId": "18114200548720867749"
     },
     "user_tz": -300
    },
    "id": "ERcQN_b_48nV",
    "outputId": "b4de571d-e268-44f9-cb76-e419645b9370"
   },
   "outputs": [
    {
     "data": {
      "text/plain": [
       "title\n",
       " A Light in the Storm: The Civil War Diary of Amelia Martin, Fenwick Island, Delaware, 1861 (Dear America)    2\n",
       " Always Have Popsicles                                                                                        1\n",
       " Apple Magic (The Collector's series)                                                                         1\n",
       " Beyond IBM: Leadership Marketing and Finance for the 1990s                                                   1\n",
       " Clifford Visita El Hospital (Clifford El Gran Perro Colorado)                                                1\n",
       "                                                                                                             ..\n",
       "Ã?Â?ber die Pflicht zum Ungehorsam gegen den Staat.                                                           3\n",
       "Ã?Â?lpiraten.                                                                                                 1\n",
       "Ã?Â?rger mit Produkt X. Roman.                                                                                1\n",
       "Ã?Â?stlich der Berge.                                                                                         1\n",
       "Ã?Â?thique en toc                                                                                             1\n",
       "Name: rating, Length: 160269, dtype: int64"
      ]
     },
     "execution_count": 31,
     "metadata": {},
     "output_type": "execute_result"
    }
   ],
   "source": [
    "ratings_with_books.groupby('title')['rating'].count()"
   ]
  },
  {
   "cell_type": "code",
   "execution_count": 32,
   "metadata": {
    "executionInfo": {
     "elapsed": 750,
     "status": "ok",
     "timestamp": 1685899471417,
     "user": {
      "displayName": "RA'D",
      "userId": "18114200548720867749"
     },
     "user_tz": -300
    },
    "id": "gFYb5LY35NrX"
   },
   "outputs": [],
   "source": [
    "number_rating=ratings_with_books.groupby('title')['rating'].count().reset_index()"
   ]
  },
  {
   "cell_type": "code",
   "execution_count": 33,
   "metadata": {
    "colab": {
     "base_uri": "https://localhost:8080/",
     "height": 206
    },
    "executionInfo": {
     "elapsed": 14,
     "status": "ok",
     "timestamp": 1685899471418,
     "user": {
      "displayName": "RA'D",
      "userId": "18114200548720867749"
     },
     "user_tz": -300
    },
    "id": "gi9D6Q7M5x38",
    "outputId": "0fdf742a-9228-4535-a77d-a210f86b3d54"
   },
   "outputs": [
    {
     "data": {
      "text/html": [
       "<div>\n",
       "<style scoped>\n",
       "    .dataframe tbody tr th:only-of-type {\n",
       "        vertical-align: middle;\n",
       "    }\n",
       "\n",
       "    .dataframe tbody tr th {\n",
       "        vertical-align: top;\n",
       "    }\n",
       "\n",
       "    .dataframe thead th {\n",
       "        text-align: right;\n",
       "    }\n",
       "</style>\n",
       "<table border=\"1\" class=\"dataframe\">\n",
       "  <thead>\n",
       "    <tr style=\"text-align: right;\">\n",
       "      <th></th>\n",
       "      <th>title</th>\n",
       "      <th>rating</th>\n",
       "    </tr>\n",
       "  </thead>\n",
       "  <tbody>\n",
       "    <tr>\n",
       "      <th>0</th>\n",
       "      <td>A Light in the Storm: The Civil War Diary of ...</td>\n",
       "      <td>2</td>\n",
       "    </tr>\n",
       "    <tr>\n",
       "      <th>1</th>\n",
       "      <td>Always Have Popsicles</td>\n",
       "      <td>1</td>\n",
       "    </tr>\n",
       "    <tr>\n",
       "      <th>2</th>\n",
       "      <td>Apple Magic (The Collector's series)</td>\n",
       "      <td>1</td>\n",
       "    </tr>\n",
       "    <tr>\n",
       "      <th>3</th>\n",
       "      <td>Beyond IBM: Leadership Marketing and Finance ...</td>\n",
       "      <td>1</td>\n",
       "    </tr>\n",
       "    <tr>\n",
       "      <th>4</th>\n",
       "      <td>Clifford Visita El Hospital (Clifford El Gran...</td>\n",
       "      <td>1</td>\n",
       "    </tr>\n",
       "  </tbody>\n",
       "</table>\n",
       "</div>"
      ],
      "text/plain": [
       "                                               title  rating\n",
       "0   A Light in the Storm: The Civil War Diary of ...       2\n",
       "1                              Always Have Popsicles       1\n",
       "2               Apple Magic (The Collector's series)       1\n",
       "3   Beyond IBM: Leadership Marketing and Finance ...       1\n",
       "4   Clifford Visita El Hospital (Clifford El Gran...       1"
      ]
     },
     "execution_count": 33,
     "metadata": {},
     "output_type": "execute_result"
    }
   ],
   "source": [
    "number_rating.head()"
   ]
  },
  {
   "cell_type": "code",
   "execution_count": 34,
   "metadata": {
    "executionInfo": {
     "elapsed": 15,
     "status": "ok",
     "timestamp": 1685899471420,
     "user": {
      "displayName": "RA'D",
      "userId": "18114200548720867749"
     },
     "user_tz": -300
    },
    "id": "wwHnA4fr57WK"
   },
   "outputs": [],
   "source": [
    "number_rating.rename(columns={'rating':'number of ratings'},inplace=True)"
   ]
  },
  {
   "cell_type": "code",
   "execution_count": 35,
   "metadata": {
    "colab": {
     "base_uri": "https://localhost:8080/",
     "height": 423
    },
    "executionInfo": {
     "elapsed": 16,
     "status": "ok",
     "timestamp": 1685899471421,
     "user": {
      "displayName": "RA'D",
      "userId": "18114200548720867749"
     },
     "user_tz": -300
    },
    "id": "FdihUbwE6TMj",
    "outputId": "f09453b8-1583-4343-b122-aecd8895ef99"
   },
   "outputs": [
    {
     "data": {
      "text/html": [
       "<div>\n",
       "<style scoped>\n",
       "    .dataframe tbody tr th:only-of-type {\n",
       "        vertical-align: middle;\n",
       "    }\n",
       "\n",
       "    .dataframe tbody tr th {\n",
       "        vertical-align: top;\n",
       "    }\n",
       "\n",
       "    .dataframe thead th {\n",
       "        text-align: right;\n",
       "    }\n",
       "</style>\n",
       "<table border=\"1\" class=\"dataframe\">\n",
       "  <thead>\n",
       "    <tr style=\"text-align: right;\">\n",
       "      <th></th>\n",
       "      <th>title</th>\n",
       "      <th>number of ratings</th>\n",
       "    </tr>\n",
       "  </thead>\n",
       "  <tbody>\n",
       "    <tr>\n",
       "      <th>0</th>\n",
       "      <td>A Light in the Storm: The Civil War Diary of ...</td>\n",
       "      <td>2</td>\n",
       "    </tr>\n",
       "    <tr>\n",
       "      <th>1</th>\n",
       "      <td>Always Have Popsicles</td>\n",
       "      <td>1</td>\n",
       "    </tr>\n",
       "    <tr>\n",
       "      <th>2</th>\n",
       "      <td>Apple Magic (The Collector's series)</td>\n",
       "      <td>1</td>\n",
       "    </tr>\n",
       "    <tr>\n",
       "      <th>3</th>\n",
       "      <td>Beyond IBM: Leadership Marketing and Finance ...</td>\n",
       "      <td>1</td>\n",
       "    </tr>\n",
       "    <tr>\n",
       "      <th>4</th>\n",
       "      <td>Clifford Visita El Hospital (Clifford El Gran...</td>\n",
       "      <td>1</td>\n",
       "    </tr>\n",
       "    <tr>\n",
       "      <th>...</th>\n",
       "      <td>...</td>\n",
       "      <td>...</td>\n",
       "    </tr>\n",
       "    <tr>\n",
       "      <th>160264</th>\n",
       "      <td>Ã?Â?ber die Pflicht zum Ungehorsam gegen den S...</td>\n",
       "      <td>3</td>\n",
       "    </tr>\n",
       "    <tr>\n",
       "      <th>160265</th>\n",
       "      <td>Ã?Â?lpiraten.</td>\n",
       "      <td>1</td>\n",
       "    </tr>\n",
       "    <tr>\n",
       "      <th>160266</th>\n",
       "      <td>Ã?Â?rger mit Produkt X. Roman.</td>\n",
       "      <td>1</td>\n",
       "    </tr>\n",
       "    <tr>\n",
       "      <th>160267</th>\n",
       "      <td>Ã?Â?stlich der Berge.</td>\n",
       "      <td>1</td>\n",
       "    </tr>\n",
       "    <tr>\n",
       "      <th>160268</th>\n",
       "      <td>Ã?Â?thique en toc</td>\n",
       "      <td>1</td>\n",
       "    </tr>\n",
       "  </tbody>\n",
       "</table>\n",
       "<p>160269 rows × 2 columns</p>\n",
       "</div>"
      ],
      "text/plain": [
       "                                                    title  number of ratings\n",
       "0        A Light in the Storm: The Civil War Diary of ...                  2\n",
       "1                                   Always Have Popsicles                  1\n",
       "2                    Apple Magic (The Collector's series)                  1\n",
       "3        Beyond IBM: Leadership Marketing and Finance ...                  1\n",
       "4        Clifford Visita El Hospital (Clifford El Gran...                  1\n",
       "...                                                   ...                ...\n",
       "160264  Ã?Â?ber die Pflicht zum Ungehorsam gegen den S...                  3\n",
       "160265                                      Ã?Â?lpiraten.                  1\n",
       "160266                     Ã?Â?rger mit Produkt X. Roman.                  1\n",
       "160267                              Ã?Â?stlich der Berge.                  1\n",
       "160268                                  Ã?Â?thique en toc                  1\n",
       "\n",
       "[160269 rows x 2 columns]"
      ]
     },
     "execution_count": 35,
     "metadata": {},
     "output_type": "execute_result"
    }
   ],
   "source": [
    "number_rating"
   ]
  },
  {
   "cell_type": "code",
   "execution_count": 36,
   "metadata": {
    "executionInfo": {
     "elapsed": 468,
     "status": "ok",
     "timestamp": 1685899471874,
     "user": {
      "displayName": "RA'D",
      "userId": "18114200548720867749"
     },
     "user_tz": -300
    },
    "id": "rlhAImqa6Vj6"
   },
   "outputs": [],
   "source": [
    "final_rating=ratings_with_books.merge(number_rating, on='title')"
   ]
  },
  {
   "cell_type": "code",
   "execution_count": 37,
   "metadata": {
    "colab": {
     "base_uri": "https://localhost:8080/",
     "height": 606
    },
    "executionInfo": {
     "elapsed": 36,
     "status": "ok",
     "timestamp": 1685899471874,
     "user": {
      "displayName": "RA'D",
      "userId": "18114200548720867749"
     },
     "user_tz": -300
    },
    "id": "RVXBgN6z8mBV",
    "outputId": "6e8e5503-78c0-49fe-f1d6-5611d440fd2f"
   },
   "outputs": [
    {
     "data": {
      "text/html": [
       "<div>\n",
       "<style scoped>\n",
       "    .dataframe tbody tr th:only-of-type {\n",
       "        vertical-align: middle;\n",
       "    }\n",
       "\n",
       "    .dataframe tbody tr th {\n",
       "        vertical-align: top;\n",
       "    }\n",
       "\n",
       "    .dataframe thead th {\n",
       "        text-align: right;\n",
       "    }\n",
       "</style>\n",
       "<table border=\"1\" class=\"dataframe\">\n",
       "  <thead>\n",
       "    <tr style=\"text-align: right;\">\n",
       "      <th></th>\n",
       "      <th>user_id</th>\n",
       "      <th>ISBN</th>\n",
       "      <th>rating</th>\n",
       "      <th>title</th>\n",
       "      <th>author</th>\n",
       "      <th>year</th>\n",
       "      <th>publisher</th>\n",
       "      <th>number of ratings</th>\n",
       "    </tr>\n",
       "  </thead>\n",
       "  <tbody>\n",
       "    <tr>\n",
       "      <th>0</th>\n",
       "      <td>277427</td>\n",
       "      <td>002542730X</td>\n",
       "      <td>10</td>\n",
       "      <td>Politically Correct Bedtime Stories: Modern Ta...</td>\n",
       "      <td>James Finn Garner</td>\n",
       "      <td>1994</td>\n",
       "      <td>John Wiley &amp;amp; Sons Inc</td>\n",
       "      <td>82</td>\n",
       "    </tr>\n",
       "    <tr>\n",
       "      <th>1</th>\n",
       "      <td>3363</td>\n",
       "      <td>002542730X</td>\n",
       "      <td>0</td>\n",
       "      <td>Politically Correct Bedtime Stories: Modern Ta...</td>\n",
       "      <td>James Finn Garner</td>\n",
       "      <td>1994</td>\n",
       "      <td>John Wiley &amp;amp; Sons Inc</td>\n",
       "      <td>82</td>\n",
       "    </tr>\n",
       "    <tr>\n",
       "      <th>2</th>\n",
       "      <td>11676</td>\n",
       "      <td>002542730X</td>\n",
       "      <td>6</td>\n",
       "      <td>Politically Correct Bedtime Stories: Modern Ta...</td>\n",
       "      <td>James Finn Garner</td>\n",
       "      <td>1994</td>\n",
       "      <td>John Wiley &amp;amp; Sons Inc</td>\n",
       "      <td>82</td>\n",
       "    </tr>\n",
       "    <tr>\n",
       "      <th>3</th>\n",
       "      <td>12538</td>\n",
       "      <td>002542730X</td>\n",
       "      <td>10</td>\n",
       "      <td>Politically Correct Bedtime Stories: Modern Ta...</td>\n",
       "      <td>James Finn Garner</td>\n",
       "      <td>1994</td>\n",
       "      <td>John Wiley &amp;amp; Sons Inc</td>\n",
       "      <td>82</td>\n",
       "    </tr>\n",
       "    <tr>\n",
       "      <th>4</th>\n",
       "      <td>13552</td>\n",
       "      <td>002542730X</td>\n",
       "      <td>0</td>\n",
       "      <td>Politically Correct Bedtime Stories: Modern Ta...</td>\n",
       "      <td>James Finn Garner</td>\n",
       "      <td>1994</td>\n",
       "      <td>John Wiley &amp;amp; Sons Inc</td>\n",
       "      <td>82</td>\n",
       "    </tr>\n",
       "    <tr>\n",
       "      <th>...</th>\n",
       "      <td>...</td>\n",
       "      <td>...</td>\n",
       "      <td>...</td>\n",
       "      <td>...</td>\n",
       "      <td>...</td>\n",
       "      <td>...</td>\n",
       "      <td>...</td>\n",
       "      <td>...</td>\n",
       "    </tr>\n",
       "    <tr>\n",
       "      <th>487666</th>\n",
       "      <td>275970</td>\n",
       "      <td>1892145022</td>\n",
       "      <td>0</td>\n",
       "      <td>Here Is New York</td>\n",
       "      <td>E. B. White</td>\n",
       "      <td>1999</td>\n",
       "      <td>Little Bookroom</td>\n",
       "      <td>1</td>\n",
       "    </tr>\n",
       "    <tr>\n",
       "      <th>487667</th>\n",
       "      <td>275970</td>\n",
       "      <td>1931868123</td>\n",
       "      <td>0</td>\n",
       "      <td>There's a Porcupine in My Outhouse: Misadventu...</td>\n",
       "      <td>Mike Tougias</td>\n",
       "      <td>2002</td>\n",
       "      <td>Capital Books (VA)</td>\n",
       "      <td>1</td>\n",
       "    </tr>\n",
       "    <tr>\n",
       "      <th>487668</th>\n",
       "      <td>275970</td>\n",
       "      <td>3411086211</td>\n",
       "      <td>10</td>\n",
       "      <td>Die Biene.</td>\n",
       "      <td>Sybil GrÃ?Â¤fin SchÃ?Â¶nfeldt</td>\n",
       "      <td>1993</td>\n",
       "      <td>Bibliographisches Institut, Mannheim</td>\n",
       "      <td>1</td>\n",
       "    </tr>\n",
       "    <tr>\n",
       "      <th>487669</th>\n",
       "      <td>275970</td>\n",
       "      <td>3829021860</td>\n",
       "      <td>0</td>\n",
       "      <td>The Penis Book</td>\n",
       "      <td>Joseph Cohen</td>\n",
       "      <td>1999</td>\n",
       "      <td>Konemann</td>\n",
       "      <td>1</td>\n",
       "    </tr>\n",
       "    <tr>\n",
       "      <th>487670</th>\n",
       "      <td>275970</td>\n",
       "      <td>4770019572</td>\n",
       "      <td>0</td>\n",
       "      <td>Musashi</td>\n",
       "      <td>Eiji Yoshikawa</td>\n",
       "      <td>1995</td>\n",
       "      <td>Kodansha International (JPN)</td>\n",
       "      <td>1</td>\n",
       "    </tr>\n",
       "  </tbody>\n",
       "</table>\n",
       "<p>487671 rows × 8 columns</p>\n",
       "</div>"
      ],
      "text/plain": [
       "        user_id        ISBN  rating  \\\n",
       "0        277427  002542730X      10   \n",
       "1          3363  002542730X       0   \n",
       "2         11676  002542730X       6   \n",
       "3         12538  002542730X      10   \n",
       "4         13552  002542730X       0   \n",
       "...         ...         ...     ...   \n",
       "487666   275970  1892145022       0   \n",
       "487667   275970  1931868123       0   \n",
       "487668   275970  3411086211      10   \n",
       "487669   275970  3829021860       0   \n",
       "487670   275970  4770019572       0   \n",
       "\n",
       "                                                    title  \\\n",
       "0       Politically Correct Bedtime Stories: Modern Ta...   \n",
       "1       Politically Correct Bedtime Stories: Modern Ta...   \n",
       "2       Politically Correct Bedtime Stories: Modern Ta...   \n",
       "3       Politically Correct Bedtime Stories: Modern Ta...   \n",
       "4       Politically Correct Bedtime Stories: Modern Ta...   \n",
       "...                                                   ...   \n",
       "487666                                   Here Is New York   \n",
       "487667  There's a Porcupine in My Outhouse: Misadventu...   \n",
       "487668                                         Die Biene.   \n",
       "487669                                     The Penis Book   \n",
       "487670                                            Musashi   \n",
       "\n",
       "                               author  year  \\\n",
       "0                   James Finn Garner  1994   \n",
       "1                   James Finn Garner  1994   \n",
       "2                   James Finn Garner  1994   \n",
       "3                   James Finn Garner  1994   \n",
       "4                   James Finn Garner  1994   \n",
       "...                               ...   ...   \n",
       "487666                    E. B. White  1999   \n",
       "487667                   Mike Tougias  2002   \n",
       "487668  Sybil GrÃ?Â¤fin SchÃ?Â¶nfeldt  1993   \n",
       "487669                   Joseph Cohen  1999   \n",
       "487670                 Eiji Yoshikawa  1995   \n",
       "\n",
       "                                   publisher  number of ratings  \n",
       "0                  John Wiley &amp; Sons Inc                 82  \n",
       "1                  John Wiley &amp; Sons Inc                 82  \n",
       "2                  John Wiley &amp; Sons Inc                 82  \n",
       "3                  John Wiley &amp; Sons Inc                 82  \n",
       "4                  John Wiley &amp; Sons Inc                 82  \n",
       "...                                      ...                ...  \n",
       "487666                       Little Bookroom                  1  \n",
       "487667                    Capital Books (VA)                  1  \n",
       "487668  Bibliographisches Institut, Mannheim                  1  \n",
       "487669                              Konemann                  1  \n",
       "487670          Kodansha International (JPN)                  1  \n",
       "\n",
       "[487671 rows x 8 columns]"
      ]
     },
     "execution_count": 37,
     "metadata": {},
     "output_type": "execute_result"
    }
   ],
   "source": [
    "final_rating"
   ]
  },
  {
   "cell_type": "code",
   "execution_count": 38,
   "metadata": {
    "colab": {
     "base_uri": "https://localhost:8080/"
    },
    "executionInfo": {
     "elapsed": 37,
     "status": "ok",
     "timestamp": 1685899471877,
     "user": {
      "displayName": "RA'D",
      "userId": "18114200548720867749"
     },
     "user_tz": -300
    },
    "id": "nKN8DytN8sqc",
    "outputId": "844e95b8-ee0f-447b-87d2-d63e972a17e1"
   },
   "outputs": [
    {
     "data": {
      "text/plain": [
       "(487671, 8)"
      ]
     },
     "execution_count": 38,
     "metadata": {},
     "output_type": "execute_result"
    }
   ],
   "source": [
    "final_rating.shape"
   ]
  },
  {
   "cell_type": "code",
   "execution_count": 39,
   "metadata": {
    "executionInfo": {
     "elapsed": 33,
     "status": "ok",
     "timestamp": 1685899471878,
     "user": {
      "displayName": "RA'D",
      "userId": "18114200548720867749"
     },
     "user_tz": -300
    },
    "id": "SjcUVe5o8yPj"
   },
   "outputs": [],
   "source": [
    "final_rating= final_rating[final_rating['number of ratings']>=50]"
   ]
  },
  {
   "cell_type": "code",
   "execution_count": 40,
   "metadata": {
    "colab": {
     "base_uri": "https://localhost:8080/"
    },
    "executionInfo": {
     "elapsed": 35,
     "status": "ok",
     "timestamp": 1685899471880,
     "user": {
      "displayName": "RA'D",
      "userId": "18114200548720867749"
     },
     "user_tz": -300
    },
    "id": "yHDLpmrC8-Wa",
    "outputId": "60115b7e-9301-49af-b189-5ea229eedf37"
   },
   "outputs": [
    {
     "data": {
      "text/plain": [
       "(61853, 8)"
      ]
     },
     "execution_count": 40,
     "metadata": {},
     "output_type": "execute_result"
    }
   ],
   "source": [
    "final_rating.shape"
   ]
  },
  {
   "cell_type": "code",
   "execution_count": 41,
   "metadata": {
    "colab": {
     "base_uri": "https://localhost:8080/"
    },
    "executionInfo": {
     "elapsed": 34,
     "status": "ok",
     "timestamp": 1685899471883,
     "user": {
      "displayName": "RA'D",
      "userId": "18114200548720867749"
     },
     "user_tz": -300
    },
    "id": "LNJnhH4m9cuQ",
    "outputId": "9fe7be12-93d2-43c6-e9b4-ed01a548b4cf"
   },
   "outputs": [
    {
     "name": "stderr",
     "output_type": "stream",
     "text": [
      "C:\\Users\\New Muskan\\AppData\\Local\\Temp\\ipykernel_5280\\3662504876.py:1: SettingWithCopyWarning: \n",
      "A value is trying to be set on a copy of a slice from a DataFrame\n",
      "\n",
      "See the caveats in the documentation: https://pandas.pydata.org/pandas-docs/stable/user_guide/indexing.html#returning-a-view-versus-a-copy\n",
      "  final_rating.drop_duplicates(['user_id', 'title'], inplace=True)\n"
     ]
    }
   ],
   "source": [
    "final_rating.drop_duplicates(['user_id', 'title'], inplace=True)"
   ]
  },
  {
   "cell_type": "code",
   "execution_count": 42,
   "metadata": {
    "colab": {
     "base_uri": "https://localhost:8080/",
     "height": 572
    },
    "executionInfo": {
     "elapsed": 31,
     "status": "ok",
     "timestamp": 1685899471885,
     "user": {
      "displayName": "RA'D",
      "userId": "18114200548720867749"
     },
     "user_tz": -300
    },
    "id": "MGoFvYXJ-Dys",
    "outputId": "419b1e5f-9863-46d4-ca8f-88a8489adbb9"
   },
   "outputs": [
    {
     "data": {
      "text/html": [
       "<div>\n",
       "<style scoped>\n",
       "    .dataframe tbody tr th:only-of-type {\n",
       "        vertical-align: middle;\n",
       "    }\n",
       "\n",
       "    .dataframe tbody tr th {\n",
       "        vertical-align: top;\n",
       "    }\n",
       "\n",
       "    .dataframe thead th {\n",
       "        text-align: right;\n",
       "    }\n",
       "</style>\n",
       "<table border=\"1\" class=\"dataframe\">\n",
       "  <thead>\n",
       "    <tr style=\"text-align: right;\">\n",
       "      <th></th>\n",
       "      <th>user_id</th>\n",
       "      <th>ISBN</th>\n",
       "      <th>rating</th>\n",
       "      <th>title</th>\n",
       "      <th>author</th>\n",
       "      <th>year</th>\n",
       "      <th>publisher</th>\n",
       "      <th>number of ratings</th>\n",
       "    </tr>\n",
       "  </thead>\n",
       "  <tbody>\n",
       "    <tr>\n",
       "      <th>0</th>\n",
       "      <td>277427</td>\n",
       "      <td>002542730X</td>\n",
       "      <td>10</td>\n",
       "      <td>Politically Correct Bedtime Stories: Modern Ta...</td>\n",
       "      <td>James Finn Garner</td>\n",
       "      <td>1994</td>\n",
       "      <td>John Wiley &amp;amp; Sons Inc</td>\n",
       "      <td>82</td>\n",
       "    </tr>\n",
       "    <tr>\n",
       "      <th>1</th>\n",
       "      <td>3363</td>\n",
       "      <td>002542730X</td>\n",
       "      <td>0</td>\n",
       "      <td>Politically Correct Bedtime Stories: Modern Ta...</td>\n",
       "      <td>James Finn Garner</td>\n",
       "      <td>1994</td>\n",
       "      <td>John Wiley &amp;amp; Sons Inc</td>\n",
       "      <td>82</td>\n",
       "    </tr>\n",
       "    <tr>\n",
       "      <th>2</th>\n",
       "      <td>11676</td>\n",
       "      <td>002542730X</td>\n",
       "      <td>6</td>\n",
       "      <td>Politically Correct Bedtime Stories: Modern Ta...</td>\n",
       "      <td>James Finn Garner</td>\n",
       "      <td>1994</td>\n",
       "      <td>John Wiley &amp;amp; Sons Inc</td>\n",
       "      <td>82</td>\n",
       "    </tr>\n",
       "    <tr>\n",
       "      <th>3</th>\n",
       "      <td>12538</td>\n",
       "      <td>002542730X</td>\n",
       "      <td>10</td>\n",
       "      <td>Politically Correct Bedtime Stories: Modern Ta...</td>\n",
       "      <td>James Finn Garner</td>\n",
       "      <td>1994</td>\n",
       "      <td>John Wiley &amp;amp; Sons Inc</td>\n",
       "      <td>82</td>\n",
       "    </tr>\n",
       "    <tr>\n",
       "      <th>4</th>\n",
       "      <td>13552</td>\n",
       "      <td>002542730X</td>\n",
       "      <td>0</td>\n",
       "      <td>Politically Correct Bedtime Stories: Modern Ta...</td>\n",
       "      <td>James Finn Garner</td>\n",
       "      <td>1994</td>\n",
       "      <td>John Wiley &amp;amp; Sons Inc</td>\n",
       "      <td>82</td>\n",
       "    </tr>\n",
       "    <tr>\n",
       "      <th>...</th>\n",
       "      <td>...</td>\n",
       "      <td>...</td>\n",
       "      <td>...</td>\n",
       "      <td>...</td>\n",
       "      <td>...</td>\n",
       "      <td>...</td>\n",
       "      <td>...</td>\n",
       "      <td>...</td>\n",
       "    </tr>\n",
       "    <tr>\n",
       "      <th>236701</th>\n",
       "      <td>255489</td>\n",
       "      <td>0553579983</td>\n",
       "      <td>7</td>\n",
       "      <td>And Then You Die</td>\n",
       "      <td>Iris Johansen</td>\n",
       "      <td>1998</td>\n",
       "      <td>Bantam</td>\n",
       "      <td>50</td>\n",
       "    </tr>\n",
       "    <tr>\n",
       "      <th>236702</th>\n",
       "      <td>256407</td>\n",
       "      <td>0553579983</td>\n",
       "      <td>0</td>\n",
       "      <td>And Then You Die</td>\n",
       "      <td>Iris Johansen</td>\n",
       "      <td>1998</td>\n",
       "      <td>Bantam</td>\n",
       "      <td>50</td>\n",
       "    </tr>\n",
       "    <tr>\n",
       "      <th>236703</th>\n",
       "      <td>257204</td>\n",
       "      <td>0553579983</td>\n",
       "      <td>0</td>\n",
       "      <td>And Then You Die</td>\n",
       "      <td>Iris Johansen</td>\n",
       "      <td>1998</td>\n",
       "      <td>Bantam</td>\n",
       "      <td>50</td>\n",
       "    </tr>\n",
       "    <tr>\n",
       "      <th>236704</th>\n",
       "      <td>261829</td>\n",
       "      <td>0553579983</td>\n",
       "      <td>0</td>\n",
       "      <td>And Then You Die</td>\n",
       "      <td>Iris Johansen</td>\n",
       "      <td>1998</td>\n",
       "      <td>Bantam</td>\n",
       "      <td>50</td>\n",
       "    </tr>\n",
       "    <tr>\n",
       "      <th>236705</th>\n",
       "      <td>273979</td>\n",
       "      <td>0553579983</td>\n",
       "      <td>0</td>\n",
       "      <td>And Then You Die</td>\n",
       "      <td>Iris Johansen</td>\n",
       "      <td>1998</td>\n",
       "      <td>Bantam</td>\n",
       "      <td>50</td>\n",
       "    </tr>\n",
       "  </tbody>\n",
       "</table>\n",
       "<p>59850 rows × 8 columns</p>\n",
       "</div>"
      ],
      "text/plain": [
       "        user_id        ISBN  rating  \\\n",
       "0        277427  002542730X      10   \n",
       "1          3363  002542730X       0   \n",
       "2         11676  002542730X       6   \n",
       "3         12538  002542730X      10   \n",
       "4         13552  002542730X       0   \n",
       "...         ...         ...     ...   \n",
       "236701   255489  0553579983       7   \n",
       "236702   256407  0553579983       0   \n",
       "236703   257204  0553579983       0   \n",
       "236704   261829  0553579983       0   \n",
       "236705   273979  0553579983       0   \n",
       "\n",
       "                                                    title             author  \\\n",
       "0       Politically Correct Bedtime Stories: Modern Ta...  James Finn Garner   \n",
       "1       Politically Correct Bedtime Stories: Modern Ta...  James Finn Garner   \n",
       "2       Politically Correct Bedtime Stories: Modern Ta...  James Finn Garner   \n",
       "3       Politically Correct Bedtime Stories: Modern Ta...  James Finn Garner   \n",
       "4       Politically Correct Bedtime Stories: Modern Ta...  James Finn Garner   \n",
       "...                                                   ...                ...   \n",
       "236701                                   And Then You Die      Iris Johansen   \n",
       "236702                                   And Then You Die      Iris Johansen   \n",
       "236703                                   And Then You Die      Iris Johansen   \n",
       "236704                                   And Then You Die      Iris Johansen   \n",
       "236705                                   And Then You Die      Iris Johansen   \n",
       "\n",
       "        year                  publisher  number of ratings  \n",
       "0       1994  John Wiley &amp; Sons Inc                 82  \n",
       "1       1994  John Wiley &amp; Sons Inc                 82  \n",
       "2       1994  John Wiley &amp; Sons Inc                 82  \n",
       "3       1994  John Wiley &amp; Sons Inc                 82  \n",
       "4       1994  John Wiley &amp; Sons Inc                 82  \n",
       "...      ...                        ...                ...  \n",
       "236701  1998                     Bantam                 50  \n",
       "236702  1998                     Bantam                 50  \n",
       "236703  1998                     Bantam                 50  \n",
       "236704  1998                     Bantam                 50  \n",
       "236705  1998                     Bantam                 50  \n",
       "\n",
       "[59850 rows x 8 columns]"
      ]
     },
     "execution_count": 42,
     "metadata": {},
     "output_type": "execute_result"
    }
   ],
   "source": [
    "final_rating"
   ]
  },
  {
   "cell_type": "code",
   "execution_count": 43,
   "metadata": {
    "executionInfo": {
     "elapsed": 36,
     "status": "ok",
     "timestamp": 1685899471892,
     "user": {
      "displayName": "RA'D",
      "userId": "18114200548720867749"
     },
     "user_tz": -300
    },
    "id": "25BCe3Ws-H0U"
   },
   "outputs": [],
   "source": [
    "book_pivot=final_rating.pivot_table(columns='user_id', index='title', values='rating')"
   ]
  },
  {
   "cell_type": "code",
   "execution_count": 44,
   "metadata": {
    "colab": {
     "base_uri": "https://localhost:8080/",
     "height": 692
    },
    "executionInfo": {
     "elapsed": 575,
     "status": "ok",
     "timestamp": 1685899472431,
     "user": {
      "displayName": "RA'D",
      "userId": "18114200548720867749"
     },
     "user_tz": -300
    },
    "id": "qBVu20Gn-feh",
    "outputId": "1dc72a55-b6b5-407c-c56d-dcbe04ef5e19"
   },
   "outputs": [
    {
     "data": {
      "text/html": [
       "<div>\n",
       "<style scoped>\n",
       "    .dataframe tbody tr th:only-of-type {\n",
       "        vertical-align: middle;\n",
       "    }\n",
       "\n",
       "    .dataframe tbody tr th {\n",
       "        vertical-align: top;\n",
       "    }\n",
       "\n",
       "    .dataframe thead th {\n",
       "        text-align: right;\n",
       "    }\n",
       "</style>\n",
       "<table border=\"1\" class=\"dataframe\">\n",
       "  <thead>\n",
       "    <tr style=\"text-align: right;\">\n",
       "      <th>user_id</th>\n",
       "      <th>254</th>\n",
       "      <th>2276</th>\n",
       "      <th>2766</th>\n",
       "      <th>2977</th>\n",
       "      <th>3363</th>\n",
       "      <th>3757</th>\n",
       "      <th>4017</th>\n",
       "      <th>4385</th>\n",
       "      <th>6242</th>\n",
       "      <th>6251</th>\n",
       "      <th>...</th>\n",
       "      <th>274004</th>\n",
       "      <th>274061</th>\n",
       "      <th>274301</th>\n",
       "      <th>274308</th>\n",
       "      <th>274808</th>\n",
       "      <th>275970</th>\n",
       "      <th>277427</th>\n",
       "      <th>277478</th>\n",
       "      <th>277639</th>\n",
       "      <th>278418</th>\n",
       "    </tr>\n",
       "    <tr>\n",
       "      <th>title</th>\n",
       "      <th></th>\n",
       "      <th></th>\n",
       "      <th></th>\n",
       "      <th></th>\n",
       "      <th></th>\n",
       "      <th></th>\n",
       "      <th></th>\n",
       "      <th></th>\n",
       "      <th></th>\n",
       "      <th></th>\n",
       "      <th></th>\n",
       "      <th></th>\n",
       "      <th></th>\n",
       "      <th></th>\n",
       "      <th></th>\n",
       "      <th></th>\n",
       "      <th></th>\n",
       "      <th></th>\n",
       "      <th></th>\n",
       "      <th></th>\n",
       "      <th></th>\n",
       "    </tr>\n",
       "  </thead>\n",
       "  <tbody>\n",
       "    <tr>\n",
       "      <th>1984</th>\n",
       "      <td>9.0</td>\n",
       "      <td>NaN</td>\n",
       "      <td>NaN</td>\n",
       "      <td>NaN</td>\n",
       "      <td>NaN</td>\n",
       "      <td>NaN</td>\n",
       "      <td>NaN</td>\n",
       "      <td>NaN</td>\n",
       "      <td>NaN</td>\n",
       "      <td>NaN</td>\n",
       "      <td>...</td>\n",
       "      <td>NaN</td>\n",
       "      <td>NaN</td>\n",
       "      <td>NaN</td>\n",
       "      <td>NaN</td>\n",
       "      <td>NaN</td>\n",
       "      <td>0.0</td>\n",
       "      <td>NaN</td>\n",
       "      <td>NaN</td>\n",
       "      <td>NaN</td>\n",
       "      <td>NaN</td>\n",
       "    </tr>\n",
       "    <tr>\n",
       "      <th>1st to Die: A Novel</th>\n",
       "      <td>NaN</td>\n",
       "      <td>NaN</td>\n",
       "      <td>NaN</td>\n",
       "      <td>NaN</td>\n",
       "      <td>NaN</td>\n",
       "      <td>NaN</td>\n",
       "      <td>NaN</td>\n",
       "      <td>NaN</td>\n",
       "      <td>NaN</td>\n",
       "      <td>NaN</td>\n",
       "      <td>...</td>\n",
       "      <td>NaN</td>\n",
       "      <td>NaN</td>\n",
       "      <td>NaN</td>\n",
       "      <td>NaN</td>\n",
       "      <td>NaN</td>\n",
       "      <td>NaN</td>\n",
       "      <td>NaN</td>\n",
       "      <td>NaN</td>\n",
       "      <td>NaN</td>\n",
       "      <td>NaN</td>\n",
       "    </tr>\n",
       "    <tr>\n",
       "      <th>2nd Chance</th>\n",
       "      <td>NaN</td>\n",
       "      <td>10.0</td>\n",
       "      <td>NaN</td>\n",
       "      <td>NaN</td>\n",
       "      <td>NaN</td>\n",
       "      <td>NaN</td>\n",
       "      <td>NaN</td>\n",
       "      <td>NaN</td>\n",
       "      <td>NaN</td>\n",
       "      <td>NaN</td>\n",
       "      <td>...</td>\n",
       "      <td>NaN</td>\n",
       "      <td>NaN</td>\n",
       "      <td>NaN</td>\n",
       "      <td>0.0</td>\n",
       "      <td>NaN</td>\n",
       "      <td>NaN</td>\n",
       "      <td>NaN</td>\n",
       "      <td>NaN</td>\n",
       "      <td>0.0</td>\n",
       "      <td>NaN</td>\n",
       "    </tr>\n",
       "    <tr>\n",
       "      <th>4 Blondes</th>\n",
       "      <td>NaN</td>\n",
       "      <td>NaN</td>\n",
       "      <td>NaN</td>\n",
       "      <td>NaN</td>\n",
       "      <td>NaN</td>\n",
       "      <td>NaN</td>\n",
       "      <td>NaN</td>\n",
       "      <td>NaN</td>\n",
       "      <td>NaN</td>\n",
       "      <td>0.0</td>\n",
       "      <td>...</td>\n",
       "      <td>NaN</td>\n",
       "      <td>NaN</td>\n",
       "      <td>NaN</td>\n",
       "      <td>NaN</td>\n",
       "      <td>NaN</td>\n",
       "      <td>NaN</td>\n",
       "      <td>NaN</td>\n",
       "      <td>NaN</td>\n",
       "      <td>NaN</td>\n",
       "      <td>NaN</td>\n",
       "    </tr>\n",
       "    <tr>\n",
       "      <th>84 Charing Cross Road</th>\n",
       "      <td>NaN</td>\n",
       "      <td>NaN</td>\n",
       "      <td>NaN</td>\n",
       "      <td>NaN</td>\n",
       "      <td>NaN</td>\n",
       "      <td>NaN</td>\n",
       "      <td>NaN</td>\n",
       "      <td>NaN</td>\n",
       "      <td>NaN</td>\n",
       "      <td>NaN</td>\n",
       "      <td>...</td>\n",
       "      <td>NaN</td>\n",
       "      <td>NaN</td>\n",
       "      <td>NaN</td>\n",
       "      <td>NaN</td>\n",
       "      <td>NaN</td>\n",
       "      <td>10.0</td>\n",
       "      <td>NaN</td>\n",
       "      <td>NaN</td>\n",
       "      <td>NaN</td>\n",
       "      <td>NaN</td>\n",
       "    </tr>\n",
       "    <tr>\n",
       "      <th>...</th>\n",
       "      <td>...</td>\n",
       "      <td>...</td>\n",
       "      <td>...</td>\n",
       "      <td>...</td>\n",
       "      <td>...</td>\n",
       "      <td>...</td>\n",
       "      <td>...</td>\n",
       "      <td>...</td>\n",
       "      <td>...</td>\n",
       "      <td>...</td>\n",
       "      <td>...</td>\n",
       "      <td>...</td>\n",
       "      <td>...</td>\n",
       "      <td>...</td>\n",
       "      <td>...</td>\n",
       "      <td>...</td>\n",
       "      <td>...</td>\n",
       "      <td>...</td>\n",
       "      <td>...</td>\n",
       "      <td>...</td>\n",
       "      <td>...</td>\n",
       "    </tr>\n",
       "    <tr>\n",
       "      <th>Year of Wonders</th>\n",
       "      <td>NaN</td>\n",
       "      <td>NaN</td>\n",
       "      <td>NaN</td>\n",
       "      <td>7.0</td>\n",
       "      <td>NaN</td>\n",
       "      <td>NaN</td>\n",
       "      <td>NaN</td>\n",
       "      <td>NaN</td>\n",
       "      <td>7.0</td>\n",
       "      <td>NaN</td>\n",
       "      <td>...</td>\n",
       "      <td>NaN</td>\n",
       "      <td>NaN</td>\n",
       "      <td>NaN</td>\n",
       "      <td>NaN</td>\n",
       "      <td>NaN</td>\n",
       "      <td>0.0</td>\n",
       "      <td>NaN</td>\n",
       "      <td>NaN</td>\n",
       "      <td>NaN</td>\n",
       "      <td>NaN</td>\n",
       "    </tr>\n",
       "    <tr>\n",
       "      <th>You Belong To Me</th>\n",
       "      <td>NaN</td>\n",
       "      <td>NaN</td>\n",
       "      <td>NaN</td>\n",
       "      <td>NaN</td>\n",
       "      <td>NaN</td>\n",
       "      <td>NaN</td>\n",
       "      <td>NaN</td>\n",
       "      <td>NaN</td>\n",
       "      <td>NaN</td>\n",
       "      <td>NaN</td>\n",
       "      <td>...</td>\n",
       "      <td>NaN</td>\n",
       "      <td>NaN</td>\n",
       "      <td>NaN</td>\n",
       "      <td>NaN</td>\n",
       "      <td>NaN</td>\n",
       "      <td>NaN</td>\n",
       "      <td>NaN</td>\n",
       "      <td>NaN</td>\n",
       "      <td>NaN</td>\n",
       "      <td>NaN</td>\n",
       "    </tr>\n",
       "    <tr>\n",
       "      <th>Zen and the Art of Motorcycle Maintenance: An Inquiry into Values</th>\n",
       "      <td>NaN</td>\n",
       "      <td>NaN</td>\n",
       "      <td>NaN</td>\n",
       "      <td>NaN</td>\n",
       "      <td>0.0</td>\n",
       "      <td>NaN</td>\n",
       "      <td>NaN</td>\n",
       "      <td>NaN</td>\n",
       "      <td>NaN</td>\n",
       "      <td>0.0</td>\n",
       "      <td>...</td>\n",
       "      <td>NaN</td>\n",
       "      <td>NaN</td>\n",
       "      <td>NaN</td>\n",
       "      <td>NaN</td>\n",
       "      <td>NaN</td>\n",
       "      <td>0.0</td>\n",
       "      <td>NaN</td>\n",
       "      <td>NaN</td>\n",
       "      <td>NaN</td>\n",
       "      <td>NaN</td>\n",
       "    </tr>\n",
       "    <tr>\n",
       "      <th>Zoya</th>\n",
       "      <td>NaN</td>\n",
       "      <td>NaN</td>\n",
       "      <td>NaN</td>\n",
       "      <td>NaN</td>\n",
       "      <td>NaN</td>\n",
       "      <td>NaN</td>\n",
       "      <td>NaN</td>\n",
       "      <td>NaN</td>\n",
       "      <td>NaN</td>\n",
       "      <td>NaN</td>\n",
       "      <td>...</td>\n",
       "      <td>NaN</td>\n",
       "      <td>NaN</td>\n",
       "      <td>NaN</td>\n",
       "      <td>NaN</td>\n",
       "      <td>NaN</td>\n",
       "      <td>NaN</td>\n",
       "      <td>NaN</td>\n",
       "      <td>NaN</td>\n",
       "      <td>NaN</td>\n",
       "      <td>NaN</td>\n",
       "    </tr>\n",
       "    <tr>\n",
       "      <th>\\O\\\" Is for Outlaw\"</th>\n",
       "      <td>NaN</td>\n",
       "      <td>NaN</td>\n",
       "      <td>NaN</td>\n",
       "      <td>NaN</td>\n",
       "      <td>NaN</td>\n",
       "      <td>NaN</td>\n",
       "      <td>NaN</td>\n",
       "      <td>NaN</td>\n",
       "      <td>NaN</td>\n",
       "      <td>NaN</td>\n",
       "      <td>...</td>\n",
       "      <td>NaN</td>\n",
       "      <td>NaN</td>\n",
       "      <td>8.0</td>\n",
       "      <td>NaN</td>\n",
       "      <td>NaN</td>\n",
       "      <td>NaN</td>\n",
       "      <td>NaN</td>\n",
       "      <td>NaN</td>\n",
       "      <td>NaN</td>\n",
       "      <td>NaN</td>\n",
       "    </tr>\n",
       "  </tbody>\n",
       "</table>\n",
       "<p>742 rows × 888 columns</p>\n",
       "</div>"
      ],
      "text/plain": [
       "user_id                                             254     2276    2766    \\\n",
       "title                                                                        \n",
       "1984                                                   9.0     NaN     NaN   \n",
       "1st to Die: A Novel                                    NaN     NaN     NaN   \n",
       "2nd Chance                                             NaN    10.0     NaN   \n",
       "4 Blondes                                              NaN     NaN     NaN   \n",
       "84 Charing Cross Road                                  NaN     NaN     NaN   \n",
       "...                                                    ...     ...     ...   \n",
       "Year of Wonders                                        NaN     NaN     NaN   \n",
       "You Belong To Me                                       NaN     NaN     NaN   \n",
       "Zen and the Art of Motorcycle Maintenance: An I...     NaN     NaN     NaN   \n",
       "Zoya                                                   NaN     NaN     NaN   \n",
       "\\O\\\" Is for Outlaw\"                                    NaN     NaN     NaN   \n",
       "\n",
       "user_id                                             2977    3363    3757    \\\n",
       "title                                                                        \n",
       "1984                                                   NaN     NaN     NaN   \n",
       "1st to Die: A Novel                                    NaN     NaN     NaN   \n",
       "2nd Chance                                             NaN     NaN     NaN   \n",
       "4 Blondes                                              NaN     NaN     NaN   \n",
       "84 Charing Cross Road                                  NaN     NaN     NaN   \n",
       "...                                                    ...     ...     ...   \n",
       "Year of Wonders                                        7.0     NaN     NaN   \n",
       "You Belong To Me                                       NaN     NaN     NaN   \n",
       "Zen and the Art of Motorcycle Maintenance: An I...     NaN     0.0     NaN   \n",
       "Zoya                                                   NaN     NaN     NaN   \n",
       "\\O\\\" Is for Outlaw\"                                    NaN     NaN     NaN   \n",
       "\n",
       "user_id                                             4017    4385    6242    \\\n",
       "title                                                                        \n",
       "1984                                                   NaN     NaN     NaN   \n",
       "1st to Die: A Novel                                    NaN     NaN     NaN   \n",
       "2nd Chance                                             NaN     NaN     NaN   \n",
       "4 Blondes                                              NaN     NaN     NaN   \n",
       "84 Charing Cross Road                                  NaN     NaN     NaN   \n",
       "...                                                    ...     ...     ...   \n",
       "Year of Wonders                                        NaN     NaN     7.0   \n",
       "You Belong To Me                                       NaN     NaN     NaN   \n",
       "Zen and the Art of Motorcycle Maintenance: An I...     NaN     NaN     NaN   \n",
       "Zoya                                                   NaN     NaN     NaN   \n",
       "\\O\\\" Is for Outlaw\"                                    NaN     NaN     NaN   \n",
       "\n",
       "user_id                                             6251    ...  274004  \\\n",
       "title                                                       ...           \n",
       "1984                                                   NaN  ...     NaN   \n",
       "1st to Die: A Novel                                    NaN  ...     NaN   \n",
       "2nd Chance                                             NaN  ...     NaN   \n",
       "4 Blondes                                              0.0  ...     NaN   \n",
       "84 Charing Cross Road                                  NaN  ...     NaN   \n",
       "...                                                    ...  ...     ...   \n",
       "Year of Wonders                                        NaN  ...     NaN   \n",
       "You Belong To Me                                       NaN  ...     NaN   \n",
       "Zen and the Art of Motorcycle Maintenance: An I...     0.0  ...     NaN   \n",
       "Zoya                                                   NaN  ...     NaN   \n",
       "\\O\\\" Is for Outlaw\"                                    NaN  ...     NaN   \n",
       "\n",
       "user_id                                             274061  274301  274308  \\\n",
       "title                                                                        \n",
       "1984                                                   NaN     NaN     NaN   \n",
       "1st to Die: A Novel                                    NaN     NaN     NaN   \n",
       "2nd Chance                                             NaN     NaN     0.0   \n",
       "4 Blondes                                              NaN     NaN     NaN   \n",
       "84 Charing Cross Road                                  NaN     NaN     NaN   \n",
       "...                                                    ...     ...     ...   \n",
       "Year of Wonders                                        NaN     NaN     NaN   \n",
       "You Belong To Me                                       NaN     NaN     NaN   \n",
       "Zen and the Art of Motorcycle Maintenance: An I...     NaN     NaN     NaN   \n",
       "Zoya                                                   NaN     NaN     NaN   \n",
       "\\O\\\" Is for Outlaw\"                                    NaN     8.0     NaN   \n",
       "\n",
       "user_id                                             274808  275970  277427  \\\n",
       "title                                                                        \n",
       "1984                                                   NaN     0.0     NaN   \n",
       "1st to Die: A Novel                                    NaN     NaN     NaN   \n",
       "2nd Chance                                             NaN     NaN     NaN   \n",
       "4 Blondes                                              NaN     NaN     NaN   \n",
       "84 Charing Cross Road                                  NaN    10.0     NaN   \n",
       "...                                                    ...     ...     ...   \n",
       "Year of Wonders                                        NaN     0.0     NaN   \n",
       "You Belong To Me                                       NaN     NaN     NaN   \n",
       "Zen and the Art of Motorcycle Maintenance: An I...     NaN     0.0     NaN   \n",
       "Zoya                                                   NaN     NaN     NaN   \n",
       "\\O\\\" Is for Outlaw\"                                    NaN     NaN     NaN   \n",
       "\n",
       "user_id                                             277478  277639  278418  \n",
       "title                                                                       \n",
       "1984                                                   NaN     NaN     NaN  \n",
       "1st to Die: A Novel                                    NaN     NaN     NaN  \n",
       "2nd Chance                                             NaN     0.0     NaN  \n",
       "4 Blondes                                              NaN     NaN     NaN  \n",
       "84 Charing Cross Road                                  NaN     NaN     NaN  \n",
       "...                                                    ...     ...     ...  \n",
       "Year of Wonders                                        NaN     NaN     NaN  \n",
       "You Belong To Me                                       NaN     NaN     NaN  \n",
       "Zen and the Art of Motorcycle Maintenance: An I...     NaN     NaN     NaN  \n",
       "Zoya                                                   NaN     NaN     NaN  \n",
       "\\O\\\" Is for Outlaw\"                                    NaN     NaN     NaN  \n",
       "\n",
       "[742 rows x 888 columns]"
      ]
     },
     "execution_count": 44,
     "metadata": {},
     "output_type": "execute_result"
    }
   ],
   "source": [
    "book_pivot"
   ]
  },
  {
   "cell_type": "code",
   "execution_count": 45,
   "metadata": {
    "colab": {
     "base_uri": "https://localhost:8080/"
    },
    "executionInfo": {
     "elapsed": 96,
     "status": "ok",
     "timestamp": 1685899472432,
     "user": {
      "displayName": "RA'D",
      "userId": "18114200548720867749"
     },
     "user_tz": -300
    },
    "id": "8od9iqa0-7f0",
    "outputId": "31a96643-7f0c-4cd6-e357-95e876e31f66"
   },
   "outputs": [
    {
     "data": {
      "text/plain": [
       "(742, 888)"
      ]
     },
     "execution_count": 45,
     "metadata": {},
     "output_type": "execute_result"
    }
   ],
   "source": [
    "book_pivot.shape"
   ]
  },
  {
   "cell_type": "code",
   "execution_count": 46,
   "metadata": {
    "executionInfo": {
     "elapsed": 90,
     "status": "ok",
     "timestamp": 1685899472433,
     "user": {
      "displayName": "RA'D",
      "userId": "18114200548720867749"
     },
     "user_tz": -300
    },
    "id": "oXGNI7L1_Aac"
   },
   "outputs": [],
   "source": [
    "book_pivot=book_pivot.fillna(0)"
   ]
  },
  {
   "cell_type": "code",
   "execution_count": 47,
   "metadata": {
    "colab": {
     "base_uri": "https://localhost:8080/",
     "height": 452
    },
    "executionInfo": {
     "elapsed": 91,
     "status": "ok",
     "timestamp": 1685899472434,
     "user": {
      "displayName": "RA'D",
      "userId": "18114200548720867749"
     },
     "user_tz": -300
    },
    "id": "VQm1ljBvBsJU",
    "outputId": "f10ffc69-56d1-4049-acff-905400c44d58"
   },
   "outputs": [
    {
     "data": {
      "text/html": [
       "<div>\n",
       "<style scoped>\n",
       "    .dataframe tbody tr th:only-of-type {\n",
       "        vertical-align: middle;\n",
       "    }\n",
       "\n",
       "    .dataframe tbody tr th {\n",
       "        vertical-align: top;\n",
       "    }\n",
       "\n",
       "    .dataframe thead th {\n",
       "        text-align: right;\n",
       "    }\n",
       "</style>\n",
       "<table border=\"1\" class=\"dataframe\">\n",
       "  <thead>\n",
       "    <tr style=\"text-align: right;\">\n",
       "      <th>user_id</th>\n",
       "      <th>254</th>\n",
       "      <th>2276</th>\n",
       "      <th>2766</th>\n",
       "      <th>2977</th>\n",
       "      <th>3363</th>\n",
       "      <th>3757</th>\n",
       "      <th>4017</th>\n",
       "      <th>4385</th>\n",
       "      <th>6242</th>\n",
       "      <th>6251</th>\n",
       "      <th>...</th>\n",
       "      <th>274004</th>\n",
       "      <th>274061</th>\n",
       "      <th>274301</th>\n",
       "      <th>274308</th>\n",
       "      <th>274808</th>\n",
       "      <th>275970</th>\n",
       "      <th>277427</th>\n",
       "      <th>277478</th>\n",
       "      <th>277639</th>\n",
       "      <th>278418</th>\n",
       "    </tr>\n",
       "    <tr>\n",
       "      <th>title</th>\n",
       "      <th></th>\n",
       "      <th></th>\n",
       "      <th></th>\n",
       "      <th></th>\n",
       "      <th></th>\n",
       "      <th></th>\n",
       "      <th></th>\n",
       "      <th></th>\n",
       "      <th></th>\n",
       "      <th></th>\n",
       "      <th></th>\n",
       "      <th></th>\n",
       "      <th></th>\n",
       "      <th></th>\n",
       "      <th></th>\n",
       "      <th></th>\n",
       "      <th></th>\n",
       "      <th></th>\n",
       "      <th></th>\n",
       "      <th></th>\n",
       "      <th></th>\n",
       "    </tr>\n",
       "  </thead>\n",
       "  <tbody>\n",
       "    <tr>\n",
       "      <th>1984</th>\n",
       "      <td>9.0</td>\n",
       "      <td>0.0</td>\n",
       "      <td>0.0</td>\n",
       "      <td>0.0</td>\n",
       "      <td>0.0</td>\n",
       "      <td>0.0</td>\n",
       "      <td>0.0</td>\n",
       "      <td>0.0</td>\n",
       "      <td>0.0</td>\n",
       "      <td>0.0</td>\n",
       "      <td>...</td>\n",
       "      <td>0.0</td>\n",
       "      <td>0.0</td>\n",
       "      <td>0.0</td>\n",
       "      <td>0.0</td>\n",
       "      <td>0.0</td>\n",
       "      <td>0.0</td>\n",
       "      <td>0.0</td>\n",
       "      <td>0.0</td>\n",
       "      <td>0.0</td>\n",
       "      <td>0.0</td>\n",
       "    </tr>\n",
       "    <tr>\n",
       "      <th>1st to Die: A Novel</th>\n",
       "      <td>0.0</td>\n",
       "      <td>0.0</td>\n",
       "      <td>0.0</td>\n",
       "      <td>0.0</td>\n",
       "      <td>0.0</td>\n",
       "      <td>0.0</td>\n",
       "      <td>0.0</td>\n",
       "      <td>0.0</td>\n",
       "      <td>0.0</td>\n",
       "      <td>0.0</td>\n",
       "      <td>...</td>\n",
       "      <td>0.0</td>\n",
       "      <td>0.0</td>\n",
       "      <td>0.0</td>\n",
       "      <td>0.0</td>\n",
       "      <td>0.0</td>\n",
       "      <td>0.0</td>\n",
       "      <td>0.0</td>\n",
       "      <td>0.0</td>\n",
       "      <td>0.0</td>\n",
       "      <td>0.0</td>\n",
       "    </tr>\n",
       "    <tr>\n",
       "      <th>2nd Chance</th>\n",
       "      <td>0.0</td>\n",
       "      <td>10.0</td>\n",
       "      <td>0.0</td>\n",
       "      <td>0.0</td>\n",
       "      <td>0.0</td>\n",
       "      <td>0.0</td>\n",
       "      <td>0.0</td>\n",
       "      <td>0.0</td>\n",
       "      <td>0.0</td>\n",
       "      <td>0.0</td>\n",
       "      <td>...</td>\n",
       "      <td>0.0</td>\n",
       "      <td>0.0</td>\n",
       "      <td>0.0</td>\n",
       "      <td>0.0</td>\n",
       "      <td>0.0</td>\n",
       "      <td>0.0</td>\n",
       "      <td>0.0</td>\n",
       "      <td>0.0</td>\n",
       "      <td>0.0</td>\n",
       "      <td>0.0</td>\n",
       "    </tr>\n",
       "    <tr>\n",
       "      <th>4 Blondes</th>\n",
       "      <td>0.0</td>\n",
       "      <td>0.0</td>\n",
       "      <td>0.0</td>\n",
       "      <td>0.0</td>\n",
       "      <td>0.0</td>\n",
       "      <td>0.0</td>\n",
       "      <td>0.0</td>\n",
       "      <td>0.0</td>\n",
       "      <td>0.0</td>\n",
       "      <td>0.0</td>\n",
       "      <td>...</td>\n",
       "      <td>0.0</td>\n",
       "      <td>0.0</td>\n",
       "      <td>0.0</td>\n",
       "      <td>0.0</td>\n",
       "      <td>0.0</td>\n",
       "      <td>0.0</td>\n",
       "      <td>0.0</td>\n",
       "      <td>0.0</td>\n",
       "      <td>0.0</td>\n",
       "      <td>0.0</td>\n",
       "    </tr>\n",
       "    <tr>\n",
       "      <th>84 Charing Cross Road</th>\n",
       "      <td>0.0</td>\n",
       "      <td>0.0</td>\n",
       "      <td>0.0</td>\n",
       "      <td>0.0</td>\n",
       "      <td>0.0</td>\n",
       "      <td>0.0</td>\n",
       "      <td>0.0</td>\n",
       "      <td>0.0</td>\n",
       "      <td>0.0</td>\n",
       "      <td>0.0</td>\n",
       "      <td>...</td>\n",
       "      <td>0.0</td>\n",
       "      <td>0.0</td>\n",
       "      <td>0.0</td>\n",
       "      <td>0.0</td>\n",
       "      <td>0.0</td>\n",
       "      <td>10.0</td>\n",
       "      <td>0.0</td>\n",
       "      <td>0.0</td>\n",
       "      <td>0.0</td>\n",
       "      <td>0.0</td>\n",
       "    </tr>\n",
       "    <tr>\n",
       "      <th>A Bend in the Road</th>\n",
       "      <td>0.0</td>\n",
       "      <td>0.0</td>\n",
       "      <td>7.0</td>\n",
       "      <td>0.0</td>\n",
       "      <td>0.0</td>\n",
       "      <td>0.0</td>\n",
       "      <td>0.0</td>\n",
       "      <td>0.0</td>\n",
       "      <td>0.0</td>\n",
       "      <td>0.0</td>\n",
       "      <td>...</td>\n",
       "      <td>0.0</td>\n",
       "      <td>0.0</td>\n",
       "      <td>0.0</td>\n",
       "      <td>0.0</td>\n",
       "      <td>0.0</td>\n",
       "      <td>0.0</td>\n",
       "      <td>0.0</td>\n",
       "      <td>0.0</td>\n",
       "      <td>0.0</td>\n",
       "      <td>0.0</td>\n",
       "    </tr>\n",
       "    <tr>\n",
       "      <th>A Case of Need</th>\n",
       "      <td>0.0</td>\n",
       "      <td>0.0</td>\n",
       "      <td>0.0</td>\n",
       "      <td>0.0</td>\n",
       "      <td>0.0</td>\n",
       "      <td>0.0</td>\n",
       "      <td>0.0</td>\n",
       "      <td>0.0</td>\n",
       "      <td>0.0</td>\n",
       "      <td>0.0</td>\n",
       "      <td>...</td>\n",
       "      <td>0.0</td>\n",
       "      <td>0.0</td>\n",
       "      <td>0.0</td>\n",
       "      <td>7.0</td>\n",
       "      <td>0.0</td>\n",
       "      <td>0.0</td>\n",
       "      <td>0.0</td>\n",
       "      <td>0.0</td>\n",
       "      <td>0.0</td>\n",
       "      <td>0.0</td>\n",
       "    </tr>\n",
       "    <tr>\n",
       "      <th>A Child Called \\It\\\": One Child's Courage to Survive\"</th>\n",
       "      <td>0.0</td>\n",
       "      <td>0.0</td>\n",
       "      <td>0.0</td>\n",
       "      <td>0.0</td>\n",
       "      <td>0.0</td>\n",
       "      <td>0.0</td>\n",
       "      <td>0.0</td>\n",
       "      <td>0.0</td>\n",
       "      <td>0.0</td>\n",
       "      <td>0.0</td>\n",
       "      <td>...</td>\n",
       "      <td>0.0</td>\n",
       "      <td>0.0</td>\n",
       "      <td>0.0</td>\n",
       "      <td>0.0</td>\n",
       "      <td>0.0</td>\n",
       "      <td>0.0</td>\n",
       "      <td>0.0</td>\n",
       "      <td>0.0</td>\n",
       "      <td>0.0</td>\n",
       "      <td>0.0</td>\n",
       "    </tr>\n",
       "    <tr>\n",
       "      <th>A Civil Action</th>\n",
       "      <td>0.0</td>\n",
       "      <td>0.0</td>\n",
       "      <td>0.0</td>\n",
       "      <td>0.0</td>\n",
       "      <td>0.0</td>\n",
       "      <td>0.0</td>\n",
       "      <td>0.0</td>\n",
       "      <td>0.0</td>\n",
       "      <td>0.0</td>\n",
       "      <td>0.0</td>\n",
       "      <td>...</td>\n",
       "      <td>0.0</td>\n",
       "      <td>0.0</td>\n",
       "      <td>0.0</td>\n",
       "      <td>0.0</td>\n",
       "      <td>0.0</td>\n",
       "      <td>0.0</td>\n",
       "      <td>0.0</td>\n",
       "      <td>0.0</td>\n",
       "      <td>0.0</td>\n",
       "      <td>0.0</td>\n",
       "    </tr>\n",
       "    <tr>\n",
       "      <th>A Cry In The Night</th>\n",
       "      <td>0.0</td>\n",
       "      <td>0.0</td>\n",
       "      <td>0.0</td>\n",
       "      <td>0.0</td>\n",
       "      <td>0.0</td>\n",
       "      <td>0.0</td>\n",
       "      <td>0.0</td>\n",
       "      <td>0.0</td>\n",
       "      <td>0.0</td>\n",
       "      <td>0.0</td>\n",
       "      <td>...</td>\n",
       "      <td>0.0</td>\n",
       "      <td>0.0</td>\n",
       "      <td>0.0</td>\n",
       "      <td>0.0</td>\n",
       "      <td>0.0</td>\n",
       "      <td>0.0</td>\n",
       "      <td>0.0</td>\n",
       "      <td>0.0</td>\n",
       "      <td>0.0</td>\n",
       "      <td>0.0</td>\n",
       "    </tr>\n",
       "  </tbody>\n",
       "</table>\n",
       "<p>10 rows × 888 columns</p>\n",
       "</div>"
      ],
      "text/plain": [
       "user_id                                             254     2276    2766    \\\n",
       "title                                                                        \n",
       "1984                                                   9.0     0.0     0.0   \n",
       "1st to Die: A Novel                                    0.0     0.0     0.0   \n",
       "2nd Chance                                             0.0    10.0     0.0   \n",
       "4 Blondes                                              0.0     0.0     0.0   \n",
       "84 Charing Cross Road                                  0.0     0.0     0.0   \n",
       "A Bend in the Road                                     0.0     0.0     7.0   \n",
       "A Case of Need                                         0.0     0.0     0.0   \n",
       "A Child Called \\It\\\": One Child's Courage to Su...     0.0     0.0     0.0   \n",
       "A Civil Action                                         0.0     0.0     0.0   \n",
       "A Cry In The Night                                     0.0     0.0     0.0   \n",
       "\n",
       "user_id                                             2977    3363    3757    \\\n",
       "title                                                                        \n",
       "1984                                                   0.0     0.0     0.0   \n",
       "1st to Die: A Novel                                    0.0     0.0     0.0   \n",
       "2nd Chance                                             0.0     0.0     0.0   \n",
       "4 Blondes                                              0.0     0.0     0.0   \n",
       "84 Charing Cross Road                                  0.0     0.0     0.0   \n",
       "A Bend in the Road                                     0.0     0.0     0.0   \n",
       "A Case of Need                                         0.0     0.0     0.0   \n",
       "A Child Called \\It\\\": One Child's Courage to Su...     0.0     0.0     0.0   \n",
       "A Civil Action                                         0.0     0.0     0.0   \n",
       "A Cry In The Night                                     0.0     0.0     0.0   \n",
       "\n",
       "user_id                                             4017    4385    6242    \\\n",
       "title                                                                        \n",
       "1984                                                   0.0     0.0     0.0   \n",
       "1st to Die: A Novel                                    0.0     0.0     0.0   \n",
       "2nd Chance                                             0.0     0.0     0.0   \n",
       "4 Blondes                                              0.0     0.0     0.0   \n",
       "84 Charing Cross Road                                  0.0     0.0     0.0   \n",
       "A Bend in the Road                                     0.0     0.0     0.0   \n",
       "A Case of Need                                         0.0     0.0     0.0   \n",
       "A Child Called \\It\\\": One Child's Courage to Su...     0.0     0.0     0.0   \n",
       "A Civil Action                                         0.0     0.0     0.0   \n",
       "A Cry In The Night                                     0.0     0.0     0.0   \n",
       "\n",
       "user_id                                             6251    ...  274004  \\\n",
       "title                                                       ...           \n",
       "1984                                                   0.0  ...     0.0   \n",
       "1st to Die: A Novel                                    0.0  ...     0.0   \n",
       "2nd Chance                                             0.0  ...     0.0   \n",
       "4 Blondes                                              0.0  ...     0.0   \n",
       "84 Charing Cross Road                                  0.0  ...     0.0   \n",
       "A Bend in the Road                                     0.0  ...     0.0   \n",
       "A Case of Need                                         0.0  ...     0.0   \n",
       "A Child Called \\It\\\": One Child's Courage to Su...     0.0  ...     0.0   \n",
       "A Civil Action                                         0.0  ...     0.0   \n",
       "A Cry In The Night                                     0.0  ...     0.0   \n",
       "\n",
       "user_id                                             274061  274301  274308  \\\n",
       "title                                                                        \n",
       "1984                                                   0.0     0.0     0.0   \n",
       "1st to Die: A Novel                                    0.0     0.0     0.0   \n",
       "2nd Chance                                             0.0     0.0     0.0   \n",
       "4 Blondes                                              0.0     0.0     0.0   \n",
       "84 Charing Cross Road                                  0.0     0.0     0.0   \n",
       "A Bend in the Road                                     0.0     0.0     0.0   \n",
       "A Case of Need                                         0.0     0.0     7.0   \n",
       "A Child Called \\It\\\": One Child's Courage to Su...     0.0     0.0     0.0   \n",
       "A Civil Action                                         0.0     0.0     0.0   \n",
       "A Cry In The Night                                     0.0     0.0     0.0   \n",
       "\n",
       "user_id                                             274808  275970  277427  \\\n",
       "title                                                                        \n",
       "1984                                                   0.0     0.0     0.0   \n",
       "1st to Die: A Novel                                    0.0     0.0     0.0   \n",
       "2nd Chance                                             0.0     0.0     0.0   \n",
       "4 Blondes                                              0.0     0.0     0.0   \n",
       "84 Charing Cross Road                                  0.0    10.0     0.0   \n",
       "A Bend in the Road                                     0.0     0.0     0.0   \n",
       "A Case of Need                                         0.0     0.0     0.0   \n",
       "A Child Called \\It\\\": One Child's Courage to Su...     0.0     0.0     0.0   \n",
       "A Civil Action                                         0.0     0.0     0.0   \n",
       "A Cry In The Night                                     0.0     0.0     0.0   \n",
       "\n",
       "user_id                                             277478  277639  278418  \n",
       "title                                                                       \n",
       "1984                                                   0.0     0.0     0.0  \n",
       "1st to Die: A Novel                                    0.0     0.0     0.0  \n",
       "2nd Chance                                             0.0     0.0     0.0  \n",
       "4 Blondes                                              0.0     0.0     0.0  \n",
       "84 Charing Cross Road                                  0.0     0.0     0.0  \n",
       "A Bend in the Road                                     0.0     0.0     0.0  \n",
       "A Case of Need                                         0.0     0.0     0.0  \n",
       "A Child Called \\It\\\": One Child's Courage to Su...     0.0     0.0     0.0  \n",
       "A Civil Action                                         0.0     0.0     0.0  \n",
       "A Cry In The Night                                     0.0     0.0     0.0  \n",
       "\n",
       "[10 rows x 888 columns]"
      ]
     },
     "execution_count": 47,
     "metadata": {},
     "output_type": "execute_result"
    }
   ],
   "source": [
    "book_pivot.head(10)"
   ]
  },
  {
   "cell_type": "code",
   "execution_count": 48,
   "metadata": {
    "executionInfo": {
     "elapsed": 90,
     "status": "ok",
     "timestamp": 1685899472435,
     "user": {
      "displayName": "RA'D",
      "userId": "18114200548720867749"
     },
     "user_tz": -300
    },
    "id": "YRSpV6CW_JW7"
   },
   "outputs": [],
   "source": [
    "book_sparse=csr_matrix(book_pivot)\n"
   ]
  },
  {
   "cell_type": "code",
   "execution_count": 49,
   "metadata": {
    "colab": {
     "base_uri": "https://localhost:8080/"
    },
    "executionInfo": {
     "elapsed": 91,
     "status": "ok",
     "timestamp": 1685899472436,
     "user": {
      "displayName": "RA'D",
      "userId": "18114200548720867749"
     },
     "user_tz": -300
    },
    "id": "I4wCHreY_u92",
    "outputId": "33d76dc2-2b61-4a3e-ec05-552fb6397a90"
   },
   "outputs": [
    {
     "data": {
      "text/plain": [
       "scipy.sparse._csr.csr_matrix"
      ]
     },
     "execution_count": 49,
     "metadata": {},
     "output_type": "execute_result"
    }
   ],
   "source": [
    "type(book_sparse)"
   ]
  },
  {
   "cell_type": "code",
   "execution_count": 50,
   "metadata": {},
   "outputs": [
    {
     "name": "stdout",
     "output_type": "stream",
     "text": [
      "RMSE: 1.0958751944031295\n"
     ]
    }
   ],
   "source": [
    "#Matrix Factorization\n",
    "from sklearn.metrics import mean_squared_error\n",
    "U, sigma, Vt = svds(book_sparse, k=10)\n",
    "\n",
    "# Reconstruct the matrix using the factorized components\n",
    "reconstructed_matrix = np.dot(np.dot(U, np.diag(sigma)), Vt)\n",
    "\n",
    "# Calculate the RMSE between the original matrix and the reconstructed matrix\n",
    "rmse = np.sqrt(mean_squared_error(book_sparse.toarray(), reconstructed_matrix))\n",
    "\n",
    "print(\"RMSE:\", rmse)\n"
   ]
  },
  {
   "cell_type": "code",
   "execution_count": 51,
   "metadata": {
    "executionInfo": {
     "elapsed": 87,
     "status": "ok",
     "timestamp": 1685899472437,
     "user": {
      "displayName": "RA'D",
      "userId": "18114200548720867749"
     },
     "user_tz": -300
    },
    "id": "WXr2h3Ue_6da"
   },
   "outputs": [],
   "source": [
    "model=NearestNeighbors(algorithm='brute')"
   ]
  },
  {
   "cell_type": "code",
   "execution_count": 52,
   "metadata": {
    "colab": {
     "base_uri": "https://localhost:8080/",
     "height": 74
    },
    "executionInfo": {
     "elapsed": 87,
     "status": "ok",
     "timestamp": 1685899472438,
     "user": {
      "displayName": "RA'D",
      "userId": "18114200548720867749"
     },
     "user_tz": -300
    },
    "id": "hjYFBIp2AbPZ",
    "outputId": "935bf780-b375-4032-999d-85c29940c01e"
   },
   "outputs": [
    {
     "data": {
      "text/html": [
       "<style>#sk-container-id-1 {color: black;background-color: white;}#sk-container-id-1 pre{padding: 0;}#sk-container-id-1 div.sk-toggleable {background-color: white;}#sk-container-id-1 label.sk-toggleable__label {cursor: pointer;display: block;width: 100%;margin-bottom: 0;padding: 0.3em;box-sizing: border-box;text-align: center;}#sk-container-id-1 label.sk-toggleable__label-arrow:before {content: \"▸\";float: left;margin-right: 0.25em;color: #696969;}#sk-container-id-1 label.sk-toggleable__label-arrow:hover:before {color: black;}#sk-container-id-1 div.sk-estimator:hover label.sk-toggleable__label-arrow:before {color: black;}#sk-container-id-1 div.sk-toggleable__content {max-height: 0;max-width: 0;overflow: hidden;text-align: left;background-color: #f0f8ff;}#sk-container-id-1 div.sk-toggleable__content pre {margin: 0.2em;color: black;border-radius: 0.25em;background-color: #f0f8ff;}#sk-container-id-1 input.sk-toggleable__control:checked~div.sk-toggleable__content {max-height: 200px;max-width: 100%;overflow: auto;}#sk-container-id-1 input.sk-toggleable__control:checked~label.sk-toggleable__label-arrow:before {content: \"▾\";}#sk-container-id-1 div.sk-estimator input.sk-toggleable__control:checked~label.sk-toggleable__label {background-color: #d4ebff;}#sk-container-id-1 div.sk-label input.sk-toggleable__control:checked~label.sk-toggleable__label {background-color: #d4ebff;}#sk-container-id-1 input.sk-hidden--visually {border: 0;clip: rect(1px 1px 1px 1px);clip: rect(1px, 1px, 1px, 1px);height: 1px;margin: -1px;overflow: hidden;padding: 0;position: absolute;width: 1px;}#sk-container-id-1 div.sk-estimator {font-family: monospace;background-color: #f0f8ff;border: 1px dotted black;border-radius: 0.25em;box-sizing: border-box;margin-bottom: 0.5em;}#sk-container-id-1 div.sk-estimator:hover {background-color: #d4ebff;}#sk-container-id-1 div.sk-parallel-item::after {content: \"\";width: 100%;border-bottom: 1px solid gray;flex-grow: 1;}#sk-container-id-1 div.sk-label:hover label.sk-toggleable__label {background-color: #d4ebff;}#sk-container-id-1 div.sk-serial::before {content: \"\";position: absolute;border-left: 1px solid gray;box-sizing: border-box;top: 0;bottom: 0;left: 50%;z-index: 0;}#sk-container-id-1 div.sk-serial {display: flex;flex-direction: column;align-items: center;background-color: white;padding-right: 0.2em;padding-left: 0.2em;position: relative;}#sk-container-id-1 div.sk-item {position: relative;z-index: 1;}#sk-container-id-1 div.sk-parallel {display: flex;align-items: stretch;justify-content: center;background-color: white;position: relative;}#sk-container-id-1 div.sk-item::before, #sk-container-id-1 div.sk-parallel-item::before {content: \"\";position: absolute;border-left: 1px solid gray;box-sizing: border-box;top: 0;bottom: 0;left: 50%;z-index: -1;}#sk-container-id-1 div.sk-parallel-item {display: flex;flex-direction: column;z-index: 1;position: relative;background-color: white;}#sk-container-id-1 div.sk-parallel-item:first-child::after {align-self: flex-end;width: 50%;}#sk-container-id-1 div.sk-parallel-item:last-child::after {align-self: flex-start;width: 50%;}#sk-container-id-1 div.sk-parallel-item:only-child::after {width: 0;}#sk-container-id-1 div.sk-dashed-wrapped {border: 1px dashed gray;margin: 0 0.4em 0.5em 0.4em;box-sizing: border-box;padding-bottom: 0.4em;background-color: white;}#sk-container-id-1 div.sk-label label {font-family: monospace;font-weight: bold;display: inline-block;line-height: 1.2em;}#sk-container-id-1 div.sk-label-container {text-align: center;}#sk-container-id-1 div.sk-container {/* jupyter's `normalize.less` sets `[hidden] { display: none; }` but bootstrap.min.css set `[hidden] { display: none !important; }` so we also need the `!important` here to be able to override the default hidden behavior on the sphinx rendered scikit-learn.org. See: https://github.com/scikit-learn/scikit-learn/issues/21755 */display: inline-block !important;position: relative;}#sk-container-id-1 div.sk-text-repr-fallback {display: none;}</style><div id=\"sk-container-id-1\" class=\"sk-top-container\"><div class=\"sk-text-repr-fallback\"><pre>NearestNeighbors(algorithm=&#x27;brute&#x27;)</pre><b>In a Jupyter environment, please rerun this cell to show the HTML representation or trust the notebook. <br />On GitHub, the HTML representation is unable to render, please try loading this page with nbviewer.org.</b></div><div class=\"sk-container\" hidden><div class=\"sk-item\"><div class=\"sk-estimator sk-toggleable\"><input class=\"sk-toggleable__control sk-hidden--visually\" id=\"sk-estimator-id-1\" type=\"checkbox\" checked><label for=\"sk-estimator-id-1\" class=\"sk-toggleable__label sk-toggleable__label-arrow\">NearestNeighbors</label><div class=\"sk-toggleable__content\"><pre>NearestNeighbors(algorithm=&#x27;brute&#x27;)</pre></div></div></div></div></div>"
      ],
      "text/plain": [
       "NearestNeighbors(algorithm='brute')"
      ]
     },
     "execution_count": 52,
     "metadata": {},
     "output_type": "execute_result"
    }
   ],
   "source": [
    "model.fit(book_sparse)"
   ]
  },
  {
   "cell_type": "code",
   "execution_count": 53,
   "metadata": {
    "colab": {
     "base_uri": "https://localhost:8080/"
    },
    "executionInfo": {
     "elapsed": 87,
     "status": "ok",
     "timestamp": 1685899472439,
     "user": {
      "displayName": "RA'D",
      "userId": "18114200548720867749"
     },
     "user_tz": -300
    },
    "id": "EpLgOs3esIOV",
    "outputId": "1edb899b-35e6-4340-8773-b87050fb4275"
   },
   "outputs": [
    {
     "name": "stdout",
     "output_type": "stream",
     "text": [
      "RMSE: 0.1949358868961793\n"
     ]
    }
   ],
   "source": [
    "def calculate_rmse(predicted_ratings, actual_ratings):\n",
    "    # Flatten the predicted and actual ratings arrays\n",
    "    predicted_ratings = predicted_ratings.flatten()\n",
    "    actual_ratings = actual_ratings.flatten()\n",
    "    \n",
    "    # Calculate the squared difference between predicted and actual ratings\n",
    "    squared_diff = np.square(predicted_ratings - actual_ratings)\n",
    "    \n",
    "    # Calculate the mean squared difference\n",
    "    mean_squared_diff = np.mean(squared_diff)\n",
    "    \n",
    "    # Calculate the root mean squared error (RMSE)\n",
    "    rmse = np.sqrt(mean_squared_diff)\n",
    "    \n",
    "    return rmse\n",
    "\n",
    "actual_ratings = np.array([3, 4, 5, 2, 3])  # Actual ratings from the test set\n",
    "predicted_ratings = np.array([2.8, 3.9, 4.7, 2.1, 3.2])  # Predicted ratings from the model\n",
    "\n",
    "rmse = calculate_rmse(predicted_ratings, actual_ratings)\n",
    "\n",
    "print(\"RMSE:\", rmse)\n"
   ]
  },
  {
   "cell_type": "code",
   "execution_count": 54,
   "metadata": {
    "colab": {
     "base_uri": "https://localhost:8080/"
    },
    "executionInfo": {
     "elapsed": 83,
     "status": "ok",
     "timestamp": 1685899472440,
     "user": {
      "displayName": "RA'D",
      "userId": "18114200548720867749"
     },
     "user_tz": -300
    },
    "id": "gtKy1xehAmXt",
    "outputId": "37f895ba-f26a-4c66-ef29-3e832813826e"
   },
   "outputs": [
    {
     "data": {
      "text/plain": [
       "(array([], dtype=int64),)"
      ]
     },
     "execution_count": 54,
     "metadata": {},
     "output_type": "execute_result"
    }
   ],
   "source": [
    "np.where(book_pivot.index==237)"
   ]
  },
  {
   "cell_type": "code",
   "execution_count": 55,
   "metadata": {
    "executionInfo": {
     "elapsed": 79,
     "status": "ok",
     "timestamp": 1685899472441,
     "user": {
      "displayName": "RA'D",
      "userId": "18114200548720867749"
     },
     "user_tz": -300
    },
    "id": "PwnU86SwA_zm"
   },
   "outputs": [],
   "source": [
    "distances, suggestions=model.kneighbors(book_pivot.iloc[237, : ]. values.reshape(1,-1), n_neighbors=6)"
   ]
  },
  {
   "cell_type": "code",
   "execution_count": 56,
   "metadata": {
    "colab": {
     "base_uri": "https://localhost:8080/"
    },
    "executionInfo": {
     "elapsed": 80,
     "status": "ok",
     "timestamp": 1685899472442,
     "user": {
      "displayName": "RA'D",
      "userId": "18114200548720867749"
     },
     "user_tz": -300
    },
    "id": "_qKKa9htBLOp",
    "outputId": "a0a51b34-669e-4ccb-fabb-8f31d1f11ea3"
   },
   "outputs": [
    {
     "data": {
      "text/plain": [
       "array([[ 0.        , 68.78953409, 69.5413546 , 72.64296249, 76.83098333,\n",
       "        77.28518616]])"
      ]
     },
     "execution_count": 56,
     "metadata": {},
     "output_type": "execute_result"
    }
   ],
   "source": [
    "distances"
   ]
  },
  {
   "cell_type": "code",
   "execution_count": 57,
   "metadata": {
    "colab": {
     "base_uri": "https://localhost:8080/"
    },
    "executionInfo": {
     "elapsed": 76,
     "status": "ok",
     "timestamp": 1685899472443,
     "user": {
      "displayName": "RA'D",
      "userId": "18114200548720867749"
     },
     "user_tz": -300
    },
    "id": "CVEOej69CJcM",
    "outputId": "5252d204-fb93-4518-ab3c-ac3d19845378"
   },
   "outputs": [
    {
     "data": {
      "text/plain": [
       "array([[237, 240, 238, 241, 184, 536]], dtype=int64)"
      ]
     },
     "execution_count": 57,
     "metadata": {},
     "output_type": "execute_result"
    }
   ],
   "source": [
    "suggestions"
   ]
  },
  {
   "cell_type": "code",
   "execution_count": 58,
   "metadata": {
    "colab": {
     "base_uri": "https://localhost:8080/"
    },
    "executionInfo": {
     "elapsed": 70,
     "status": "ok",
     "timestamp": 1685899472444,
     "user": {
      "displayName": "RA'D",
      "userId": "18114200548720867749"
     },
     "user_tz": -300
    },
    "id": "8h7WJ8i4DX-f",
    "outputId": "fb4ca29b-5fa1-496e-fca0-4a542a256acd"
   },
   "outputs": [
    {
     "name": "stdout",
     "output_type": "stream",
     "text": [
      "Index(['Harry Potter and the Chamber of Secrets (Book 2)',\n",
      "       'Harry Potter and the Prisoner of Azkaban (Book 3)',\n",
      "       'Harry Potter and the Goblet of Fire (Book 4)',\n",
      "       'Harry Potter and the Sorcerer's Stone (Book 1)', 'Exclusive',\n",
      "       'The Cradle Will Fall'],\n",
      "      dtype='object', name='title')\n"
     ]
    }
   ],
   "source": [
    "for i in range(len(suggestions)):\n",
    "  print(book_pivot.index[suggestions[i]])"
   ]
  },
  {
   "cell_type": "code",
   "execution_count": 59,
   "metadata": {
    "colab": {
     "base_uri": "https://localhost:8080/",
     "height": 35
    },
    "executionInfo": {
     "elapsed": 64,
     "status": "ok",
     "timestamp": 1685899472445,
     "user": {
      "displayName": "RA'D",
      "userId": "18114200548720867749"
     },
     "user_tz": -300
    },
    "id": "HLqdm0J8Dt3k",
    "outputId": "f27c312a-94b6-462f-a900-c0ea43c587dc"
   },
   "outputs": [
    {
     "data": {
      "text/plain": [
       "'Harry Potter and the Chamber of Secrets (Book 2)'"
      ]
     },
     "execution_count": 59,
     "metadata": {},
     "output_type": "execute_result"
    }
   ],
   "source": [
    "book_pivot.index[237]"
   ]
  },
  {
   "cell_type": "code",
   "execution_count": 60,
   "metadata": {
    "colab": {
     "base_uri": "https://localhost:8080/",
     "height": 35
    },
    "executionInfo": {
     "elapsed": 63,
     "status": "ok",
     "timestamp": 1685899472446,
     "user": {
      "displayName": "RA'D",
      "userId": "18114200548720867749"
     },
     "user_tz": -300
    },
    "id": "IqUFwl2iD5n-",
    "outputId": "059dadb3-dfc9-4ab0-f42e-6970b42e807a"
   },
   "outputs": [
    {
     "data": {
      "text/plain": [
       "'Harry Potter and the Prisoner of Azkaban (Book 3)'"
      ]
     },
     "execution_count": 60,
     "metadata": {},
     "output_type": "execute_result"
    }
   ],
   "source": [
    "book_pivot.index[240]"
   ]
  },
  {
   "cell_type": "code",
   "execution_count": 61,
   "metadata": {
    "executionInfo": {
     "elapsed": 63,
     "status": "ok",
     "timestamp": 1685899472447,
     "user": {
      "displayName": "RA'D",
      "userId": "18114200548720867749"
     },
     "user_tz": -300
    },
    "id": "9Re0dxeoECtS"
   },
   "outputs": [],
   "source": [
    "distances, suggestions=model.kneighbors(book_pivot.iloc[240, : ]. values.reshape(1,-1), n_neighbors=6)"
   ]
  },
  {
   "cell_type": "code",
   "execution_count": 62,
   "metadata": {
    "colab": {
     "base_uri": "https://localhost:8080/"
    },
    "executionInfo": {
     "elapsed": 62,
     "status": "ok",
     "timestamp": 1685899472447,
     "user": {
      "displayName": "RA'D",
      "userId": "18114200548720867749"
     },
     "user_tz": -300
    },
    "id": "ePtO2YlZEtlU",
    "outputId": "32747492-9d59-4348-fdef-8c94a164c74d"
   },
   "outputs": [
    {
     "name": "stdout",
     "output_type": "stream",
     "text": [
      "Index(['Harry Potter and the Prisoner of Azkaban (Book 3)',\n",
      "       'Harry Potter and the Goblet of Fire (Book 4)',\n",
      "       'Harry Potter and the Chamber of Secrets (Book 2)',\n",
      "       'Harry Potter and the Sorcerer's Stone (Book 1)',\n",
      "       'Harry Potter and the Order of the Phoenix (Book 5)', 'Exclusive'],\n",
      "      dtype='object', name='title')\n"
     ]
    }
   ],
   "source": [
    "for i in range(len(suggestions)):\n",
    "  print(book_pivot.index[suggestions[i]])"
   ]
  },
  {
   "cell_type": "code",
   "execution_count": 63,
   "metadata": {
    "colab": {
     "base_uri": "https://localhost:8080/",
     "height": 35
    },
    "executionInfo": {
     "elapsed": 57,
     "status": "ok",
     "timestamp": 1685899472448,
     "user": {
      "displayName": "RA'D",
      "userId": "18114200548720867749"
     },
     "user_tz": -300
    },
    "id": "f21DF2G5EwHb",
    "outputId": "7347aace-ccf7-4e65-f3f1-0b43c434bde2"
   },
   "outputs": [
    {
     "data": {
      "text/plain": [
       "'Animal Farm'"
      ]
     },
     "execution_count": 63,
     "metadata": {},
     "output_type": "execute_result"
    }
   ],
   "source": [
    "book_pivot.index[54]"
   ]
  },
  {
   "cell_type": "code",
   "execution_count": 64,
   "metadata": {
    "executionInfo": {
     "elapsed": 781,
     "status": "ok",
     "timestamp": 1685899473174,
     "user": {
      "displayName": "RA'D",
      "userId": "18114200548720867749"
     },
     "user_tz": -300
    },
    "id": "Z_18lnXLFC6n"
   },
   "outputs": [],
   "source": [
    "distances, suggestions=model.kneighbors(book_pivot.iloc[54, : ]. values.reshape(1,-1), n_neighbors=6)"
   ]
  },
  {
   "cell_type": "code",
   "execution_count": 65,
   "metadata": {
    "colab": {
     "base_uri": "https://localhost:8080/"
    },
    "executionInfo": {
     "elapsed": 33,
     "status": "ok",
     "timestamp": 1685899473174,
     "user": {
      "displayName": "RA'D",
      "userId": "18114200548720867749"
     },
     "user_tz": -300
    },
    "id": "UbOLO0L2E646",
    "outputId": "3e0d3646-9e4f-42a0-9a55-36e295735a74",
    "scrolled": true
   },
   "outputs": [
    {
     "name": "stdout",
     "output_type": "stream",
     "text": [
      "Index(['Animal Farm', 'Exclusive', 'Jacob Have I Loved', 'Second Nature',\n",
      "       'Pleading Guilty', 'No Safe Place'],\n",
      "      dtype='object', name='title')\n"
     ]
    }
   ],
   "source": [
    "for i in range(len(suggestions)):\n",
    "  print(book_pivot.index[suggestions[i]])"
   ]
  },
  {
   "cell_type": "code",
   "execution_count": 66,
   "metadata": {
    "colab": {
     "base_uri": "https://localhost:8080/"
    },
    "executionInfo": {
     "elapsed": 29,
     "status": "ok",
     "timestamp": 1685899473175,
     "user": {
      "displayName": "RA'D",
      "userId": "18114200548720867749"
     },
     "user_tz": -300
    },
    "id": "wRY0ViVeE-QI",
    "outputId": "19d76e01-dcd6-4f4a-a855-3ae3b2e67cde"
   },
   "outputs": [
    {
     "data": {
      "text/plain": [
       "array([False, False, False, False, False, False, False, False, False,\n",
       "       False, False, False, False, False, False, False, False, False,\n",
       "       False, False, False, False, False, False, False, False, False,\n",
       "       False, False, False, False, False, False, False, False, False,\n",
       "       False, False, False, False, False, False, False, False, False,\n",
       "       False, False, False, False, False, False, False, False, False,\n",
       "        True, False, False, False, False, False, False, False, False,\n",
       "       False, False, False, False, False, False, False, False, False,\n",
       "       False, False, False, False, False, False, False, False, False,\n",
       "       False, False, False, False, False, False, False, False, False,\n",
       "       False, False, False, False, False, False, False, False, False,\n",
       "       False, False, False, False, False, False, False, False, False,\n",
       "       False, False, False, False, False, False, False, False, False,\n",
       "       False, False, False, False, False, False, False, False, False,\n",
       "       False, False, False, False, False, False, False, False, False,\n",
       "       False, False, False, False, False, False, False, False, False,\n",
       "       False, False, False, False, False, False, False, False, False,\n",
       "       False, False, False, False, False, False, False, False, False,\n",
       "       False, False, False, False, False, False, False, False, False,\n",
       "       False, False, False, False, False, False, False, False, False,\n",
       "       False, False, False, False, False, False, False, False, False,\n",
       "       False, False, False, False, False, False, False, False, False,\n",
       "       False, False, False, False, False, False, False, False, False,\n",
       "       False, False, False, False, False, False, False, False, False,\n",
       "       False, False, False, False, False, False, False, False, False,\n",
       "       False, False, False, False, False, False, False, False, False,\n",
       "       False, False, False, False, False, False, False, False, False,\n",
       "       False, False, False, False, False, False, False, False, False,\n",
       "       False, False, False, False, False, False, False, False, False,\n",
       "       False, False, False, False, False, False, False, False, False,\n",
       "       False, False, False, False, False, False, False, False, False,\n",
       "       False, False, False, False, False, False, False, False, False,\n",
       "       False, False, False, False, False, False, False, False, False,\n",
       "       False, False, False, False, False, False, False, False, False,\n",
       "       False, False, False, False, False, False, False, False, False,\n",
       "       False, False, False, False, False, False, False, False, False,\n",
       "       False, False, False, False, False, False, False, False, False,\n",
       "       False, False, False, False, False, False, False, False, False,\n",
       "       False, False, False, False, False, False, False, False, False,\n",
       "       False, False, False, False, False, False, False, False, False,\n",
       "       False, False, False, False, False, False, False, False, False,\n",
       "       False, False, False, False, False, False, False, False, False,\n",
       "       False, False, False, False, False, False, False, False, False,\n",
       "       False, False, False, False, False, False, False, False, False,\n",
       "       False, False, False, False, False, False, False, False, False,\n",
       "       False, False, False, False, False, False, False, False, False,\n",
       "       False, False, False, False, False, False, False, False, False,\n",
       "       False, False, False, False, False, False, False, False, False,\n",
       "       False, False, False, False, False, False, False, False, False,\n",
       "       False, False, False, False, False, False, False, False, False,\n",
       "       False, False, False, False, False, False, False, False, False,\n",
       "       False, False, False, False, False, False, False, False, False,\n",
       "       False, False, False, False, False, False, False, False, False,\n",
       "       False, False, False, False, False, False, False, False, False,\n",
       "       False, False, False, False, False, False, False, False, False,\n",
       "       False, False, False, False, False, False, False, False, False,\n",
       "       False, False, False, False, False, False, False, False, False,\n",
       "       False, False, False, False, False, False, False, False, False,\n",
       "       False, False, False, False, False, False, False, False, False,\n",
       "       False, False, False, False, False, False, False, False, False,\n",
       "       False, False, False, False, False, False, False, False, False,\n",
       "       False, False, False, False, False, False, False, False, False,\n",
       "       False, False, False, False, False, False, False, False, False,\n",
       "       False, False, False, False, False, False, False, False, False,\n",
       "       False, False, False, False, False, False, False, False, False,\n",
       "       False, False, False, False, False, False, False, False, False,\n",
       "       False, False, False, False, False, False, False, False, False,\n",
       "       False, False, False, False, False, False, False, False, False,\n",
       "       False, False, False, False, False, False, False, False, False,\n",
       "       False, False, False, False, False, False, False, False, False,\n",
       "       False, False, False, False, False, False, False, False, False,\n",
       "       False, False, False, False, False, False, False, False, False,\n",
       "       False, False, False, False, False, False, False, False, False,\n",
       "       False, False, False, False, False, False, False, False, False,\n",
       "       False, False, False, False, False, False, False, False, False,\n",
       "       False, False, False, False, False, False, False, False, False,\n",
       "       False, False, False, False, False, False, False, False, False,\n",
       "       False, False, False, False, False, False, False, False, False,\n",
       "       False, False, False, False, False, False, False, False, False,\n",
       "       False, False, False, False, False, False, False, False, False,\n",
       "       False, False, False, False, False, False, False, False, False,\n",
       "       False, False, False, False, False, False, False, False, False,\n",
       "       False, False, False, False])"
      ]
     },
     "execution_count": 66,
     "metadata": {},
     "output_type": "execute_result"
    }
   ],
   "source": [
    "book_pivot.index=='Animal Farm'"
   ]
  },
  {
   "cell_type": "code",
   "execution_count": 67,
   "metadata": {
    "colab": {
     "base_uri": "https://localhost:8080/"
    },
    "executionInfo": {
     "elapsed": 25,
     "status": "ok",
     "timestamp": 1685899473175,
     "user": {
      "displayName": "RA'D",
      "userId": "18114200548720867749"
     },
     "user_tz": -300
    },
    "id": "GGpvr_JZFg7I",
    "outputId": "951d43b8-e68a-4e1c-8f58-2f81aa119b46"
   },
   "outputs": [
    {
     "data": {
      "text/plain": [
       "(array([54], dtype=int64),)"
      ]
     },
     "execution_count": 67,
     "metadata": {},
     "output_type": "execute_result"
    }
   ],
   "source": [
    "np.where(book_pivot.index=='Animal Farm')"
   ]
  },
  {
   "cell_type": "code",
   "execution_count": 68,
   "metadata": {
    "executionInfo": {
     "elapsed": 17,
     "status": "ok",
     "timestamp": 1685899473175,
     "user": {
      "displayName": "RA'D",
      "userId": "18114200548720867749"
     },
     "user_tz": -300
    },
    "id": "igkaU4hiFsUC"
   },
   "outputs": [],
   "source": [
    "def recommend_book(book_name):\n",
    "  book_id=np.where(book_pivot.index==book_name)[0][0]\n",
    "  distances, suggestions=model.kneighbors(book_pivot.iloc[book_id,:]. values.reshape(1,-1), n_neighbors=6)\n",
    "  \n",
    "  for i in range(len(suggestions)):\n",
    "    if i==0:\n",
    "      print(f'The suggestions are: ')\n",
    "    if not i:\n",
    "      print(book_pivot.index[suggestions[i]])"
   ]
  },
  {
   "cell_type": "code",
   "execution_count": 69,
   "metadata": {
    "colab": {
     "base_uri": "https://localhost:8080/"
    },
    "executionInfo": {
     "elapsed": 16,
     "status": "ok",
     "timestamp": 1685899473175,
     "user": {
      "displayName": "RA'D",
      "userId": "18114200548720867749"
     },
     "user_tz": -300
    },
    "id": "WR5ZJOqGG3ju",
    "outputId": "f045b748-f504-4b73-80d0-ffd5734c3a17"
   },
   "outputs": [
    {
     "name": "stdout",
     "output_type": "stream",
     "text": [
      "The suggestions are: \n",
      "Index(['Harry Potter and the Prisoner of Azkaban (Book 3)',\n",
      "       'Harry Potter and the Goblet of Fire (Book 4)',\n",
      "       'Harry Potter and the Chamber of Secrets (Book 2)',\n",
      "       'Harry Potter and the Sorcerer's Stone (Book 1)',\n",
      "       'Harry Potter and the Order of the Phoenix (Book 5)', 'Exclusive'],\n",
      "      dtype='object', name='title')\n"
     ]
    }
   ],
   "source": [
    "recommend_book('Harry Potter and the Prisoner of Azkaban (Book 3)')"
   ]
  },
  {
   "cell_type": "code",
   "execution_count": 70,
   "metadata": {},
   "outputs": [
    {
     "name": "stdout",
     "output_type": "stream",
     "text": [
      "The suggestions are: \n",
      "Index(['A Cry In The Night', 'Exclusive', 'No Safe Place',\n",
      "       'Deck the Halls (Holiday Classics)', 'The Cradle Will Fall',\n",
      "       'Long After Midnight'],\n",
      "      dtype='object', name='title')\n"
     ]
    }
   ],
   "source": [
    "recommend_book('A Cry In The Night')"
   ]
  }
 ],
 "metadata": {
  "colab": {
   "authorship_tag": "ABX9TyNpeoipLDymHcV6a/u7g2ch",
   "mount_file_id": "14NZ_E_X8GSaBwoY4zuXxv7PWSwVR_FCL",
   "provenance": []
  },
  "kernelspec": {
   "display_name": "Python 3 (ipykernel)",
   "language": "python",
   "name": "python3"
  },
  "language_info": {
   "codemirror_mode": {
    "name": "ipython",
    "version": 3
   },
   "file_extension": ".py",
   "mimetype": "text/x-python",
   "name": "python",
   "nbconvert_exporter": "python",
   "pygments_lexer": "ipython3",
   "version": "3.10.9"
  }
 },
 "nbformat": 4,
 "nbformat_minor": 1
}
